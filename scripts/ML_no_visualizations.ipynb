{
  "nbformat": 4,
  "nbformat_minor": 0,
  "metadata": {
    "kernelspec": {
      "display_name": "Python 3",
      "language": "python",
      "name": "python3"
    },
    "language_info": {
      "codemirror_mode": {
        "name": "ipython",
        "version": 3
      },
      "file_extension": ".py",
      "mimetype": "text/x-python",
      "name": "python",
      "nbconvert_exporter": "python",
      "pygments_lexer": "ipython3",
      "version": "3.7.3"
    },
    "varInspector": {
      "cols": {
        "lenName": 16,
        "lenType": 16,
        "lenVar": 40
      },
      "kernels_config": {
        "python": {
          "delete_cmd_postfix": "",
          "delete_cmd_prefix": "del ",
          "library": "var_list.py",
          "varRefreshCmd": "print(var_dic_list())"
        },
        "r": {
          "delete_cmd_postfix": ") ",
          "delete_cmd_prefix": "rm(",
          "library": "var_list.r",
          "varRefreshCmd": "cat(var_dic_list()) "
        }
      },
      "types_to_exclude": [
        "module",
        "function",
        "builtin_function_or_method",
        "instance",
        "_Feature"
      ],
      "window_display": false
    },
    "colab": {
      "name": "ML_no_visualizations.ipynb",
      "provenance": [],
      "collapsed_sections": [
        "9JoMlK6OD_I9",
        "4le13sGny21Q",
        "BBT_svbZD_JH",
        "HmtpkDRqD_Jh",
        "bkt7ATU1D_Ju",
        "EXL5lvHKb6Tx",
        "b3Fuh6nql-Hf",
        "ze2g97_qmRxh",
        "a8GO_IYBmUMr",
        "RvgD4xcGms1R",
        "iQnbQMDQWVLx"
      ],
      "machine_shape": "hm",
      "include_colab_link": true
    }
  },
  "cells": [
    {
      "cell_type": "markdown",
      "metadata": {
        "id": "view-in-github",
        "colab_type": "text"
      },
      "source": [
        "<a href=\"https://colab.research.google.com/github/lilfetz22/Health_Scores_CAP2/blob/master/scripts/ML_no_visualizations.ipynb\" target=\"_parent\"><img src=\"https://colab.research.google.com/assets/colab-badge.svg\" alt=\"Open In Colab\"/></a>"
      ]
    },
    {
      "cell_type": "markdown",
      "metadata": {
        "id": "rn2obxs-Mtnu",
        "colab_type": "text"
      },
      "source": [
        "# Health Scores Machine Learning"
      ]
    },
    {
      "cell_type": "markdown",
      "metadata": {
        "id": "3nDMOD96M5Kx",
        "colab_type": "text"
      },
      "source": [
        "How healthy is your city? This notebook goes through the process of determining how your city ranks among the top 500 cities in the United States. The data that is brought in this notebook were manipulated in Health_scores_EDA jupyter notebook. The data did not come with any labels for classification; thus, this notebook uses several classification methods to then complete the classification models. This notebook begins by using the following clusterization techniques: \n",
        "\n",
        "\n",
        "1.   KMeans\n",
        "2.   Decision Tree\n",
        "3.   Optics\n",
        "4.   Hierarchical Clustering\n",
        "5.   HBDSCAN\n",
        "6.   Affinity Propagation\n",
        "\n",
        "Next the data was classified using classification models predicting the clusters. The following models were used during classification:\n",
        "\n",
        "\n",
        "\n",
        "1.   Logistic Regression\n",
        "2.   Decision Tree\n",
        "3.   Random Forest\n",
        "4.   LightGBM\n",
        "5.   XGBoost\n",
        "\n",
        "\n",
        "The models were then compared with each classification method and clusterization labels. The best combination appeared to be using ________ classification and __________ clustering. \n",
        "\n",
        "Finally, each location was given a rank for each feature. The feature importances found from the classification model were used to weight the features producing a score for each feature in each location. The location was scored based upon all features and given an **Overall Health Score** \n",
        "\n",
        "\n",
        "\n",
        "\n",
        "\n"
      ]
    },
    {
      "cell_type": "code",
      "metadata": {
        "id": "quYUaN-gLG-O",
        "colab_type": "code",
        "outputId": "b82b5793-27e1-42d9-ac2e-85353624023f",
        "colab": {
          "base_uri": "https://localhost:8080/",
          "height": 111
        }
      },
      "source": [
        "!pip install -q hdbscan"
      ],
      "execution_count": 1,
      "outputs": [
        {
          "output_type": "stream",
          "text": [
            "\u001b[K     |████████████████████████████████| 4.9MB 2.8MB/s \n",
            "\u001b[?25h  Installing build dependencies ... \u001b[?25l\u001b[?25hdone\n",
            "  Getting requirements to build wheel ... \u001b[?25l\u001b[?25hdone\n",
            "    Preparing wheel metadata ... \u001b[?25l\u001b[?25hdone\n",
            "  Building wheel for hdbscan (PEP 517) ... \u001b[?25l\u001b[?25hdone\n"
          ],
          "name": "stdout"
        }
      ]
    },
    {
      "cell_type": "code",
      "metadata": {
        "ExecuteTime": {
          "end_time": "2019-11-25T14:03:28.568386Z",
          "start_time": "2019-11-25T14:03:28.146129Z"
        },
        "id": "8zLIgM7xD_IJ",
        "colab_type": "code",
        "colab": {}
      },
      "source": [
        "import pandas as pd\n",
        "import numpy as np\n",
        "import matplotlib.pyplot as plt\n",
        "import scipy.cluster.hierarchy as shc\n",
        "import seaborn as sns\n",
        "import warnings\n",
        "import io\n",
        "import lightgbm as lgb\n",
        "import xgboost as xgb\n",
        "import re\n",
        "import hdbscan\n",
        "from random import seed, randint,sample\n",
        "from sklearn.cluster import OPTICS,KMeans,AgglomerativeClustering,AffinityPropagation\n",
        "from tqdm import tqdm\n",
        "from sklearn.model_selection import train_test_split, KFold, StratifiedKFold, GridSearchCV, cross_val_score\n",
        "from sklearn.linear_model import LogisticRegression\n",
        "from sklearn.metrics import (accuracy_score, silhouette_samples, silhouette_score, \n",
        "calinski_harabasz_score, davies_bouldin_score)\n",
        "from sklearn.ensemble import RandomForestClassifier\n",
        "from sklearn.tree import DecisionTreeClassifier\n",
        "from google.colab import drive\n",
        "from numba import jit"
      ],
      "execution_count": 0,
      "outputs": []
    },
    {
      "cell_type": "code",
      "metadata": {
        "id": "Kdo93XNL2aid",
        "colab_type": "code",
        "outputId": "1a3f4654-05e3-4941-c1e3-a74843209f73",
        "colab": {
          "base_uri": "https://localhost:8080/",
          "height": 131
        }
      },
      "source": [
        "drive.mount('/content/gdrive')"
      ],
      "execution_count": 3,
      "outputs": [
        {
          "output_type": "stream",
          "text": [
            "Go to this URL in a browser: https://accounts.google.com/o/oauth2/auth?client_id=947318989803-6bn6qk8qdgf4n4g3pfee6491hc0brc4i.apps.googleusercontent.com&redirect_uri=urn%3aietf%3awg%3aoauth%3a2.0%3aoob&response_type=code&scope=email%20https%3a%2f%2fwww.googleapis.com%2fauth%2fdocs.test%20https%3a%2f%2fwww.googleapis.com%2fauth%2fdrive%20https%3a%2f%2fwww.googleapis.com%2fauth%2fdrive.photos.readonly%20https%3a%2f%2fwww.googleapis.com%2fauth%2fpeopleapi.readonly\n",
            "\n",
            "Enter your authorization code:\n",
            "··········\n",
            "Mounted at /content/gdrive\n"
          ],
          "name": "stdout"
        }
      ]
    },
    {
      "cell_type": "code",
      "metadata": {
        "id": "7BxE2pKV4PbG",
        "colab_type": "code",
        "colab": {}
      },
      "source": [
        "city_data_scaled = pd.read_csv(\"/content/gdrive/My Drive/Health_Scores_CAP2/manipulated_data/city_data_scaled.csv\",\n",
        "                               index_col='stpl_fips')\n",
        "tract_data_scaled = pd.read_csv(\"/content/gdrive/My Drive/Health_Scores_CAP2/manipulated_data/tract_data_scaled.csv\",\n",
        "                               index_col='stcotr_fips')\n",
        "city_data_manip = pd.read_csv(\"/content/gdrive/My Drive/Health_Scores_CAP2/manipulated_data/city_data_manip.csv\",\n",
        "                               index_col='stpl_fips')\n",
        "tract_data_manip = pd.read_csv(\"/content/gdrive/My Drive/Health_Scores_CAP2/manipulated_data/tract_data_manip.csv\",\n",
        "                               index_col='stcotr_fips')\n",
        "leri_city = pd.read_csv(\"/content/gdrive/My Drive/Health_Scores_CAP2/manipulated_data/leri_city.csv\",\n",
        "                               index_col='stpl_fips')\n",
        "leri_tract = pd.read_csv(\"/content/gdrive/My Drive/Health_Scores_CAP2/manipulated_data/leri_tract.csv\",\n",
        "                               index_col='stcotr_fips')\n",
        "kmeans_city_df = pd.read_csv('/content/gdrive/My Drive/Health_Scores_CAP2/manipulated_data/kmeans_city_df.csv',\n",
        "                             index_col='stpl_fips')\n",
        "kmeans_tract_df = pd.read_csv('/content/gdrive/My Drive/Health_Scores_CAP2/manipulated_data/kmeans_tract_df.csv',\n",
        "                              index_col='stcotr_fips')\n",
        "optic_city_df = pd.read_csv('/content/gdrive/My Drive/Health_Scores_CAP2/manipulated_data/optic_city_df.csv',\n",
        "                              index_col='stpl_fips')\n",
        "optic_tract_df = pd.read_csv('/content/gdrive/My Drive/Health_Scores_CAP2/manipulated_data/optic_tract_df.csv',\n",
        "                              index_col='stcotr_fips')\n",
        "hdbs_city_df = pd.read_csv('/content/gdrive/My Drive/Health_Scores_CAP2/manipulated_data/hdbs_city_df.csv',\n",
        "                              index_col='stpl_fips')\n",
        "hdbs_tract_df = pd.read_csv('/content/gdrive/My Drive/Health_Scores_CAP2/manipulated_data/hdbs_tract_df.csv',\n",
        "                              index_col='stcotr_fips')\n",
        "agg_city_df = pd.read_csv('/content/gdrive/My Drive/Health_Scores_CAP2/manipulated_data/agg_city_df.csv',\n",
        "                              index_col='stpl_fips')\n",
        "agg_tract_df = pd.read_csv('/content/gdrive/My Drive/Health_Scores_CAP2/manipulated_data/agg_tract_df.csv',\n",
        "                              index_col='stcotr_fips')\n",
        "aff_city_df = pd.read_csv('/content/gdrive/My Drive/Health_Scores_CAP2/manipulated_data/aff_city_df.csv',\n",
        "                              index_col='stpl_fips')"
      ],
      "execution_count": 0,
      "outputs": []
    },
    {
      "cell_type": "code",
      "metadata": {
        "id": "LqZ5RR3GPuea",
        "colab_type": "code",
        "colab": {}
      },
      "source": [
        "city_data_scaled.name = 'city'\n",
        "tract_data_scaled.name = 'tract'"
      ],
      "execution_count": 0,
      "outputs": []
    },
    {
      "cell_type": "markdown",
      "metadata": {
        "id": "5JA-9IZjD_IS",
        "colab_type": "text"
      },
      "source": [
        "## Clustering"
      ]
    },
    {
      "cell_type": "markdown",
      "metadata": {
        "id": "esD19mRdLZ8q",
        "colab_type": "text"
      },
      "source": [
        "clusterings have been saved in csv files that are all imported above"
      ]
    },
    {
      "cell_type": "code",
      "metadata": {
        "id": "2PBCOGAngbds",
        "colab_type": "code",
        "colab": {}
      },
      "source": [
        ""
      ],
      "execution_count": 0,
      "outputs": []
    },
    {
      "cell_type": "code",
      "metadata": {
        "id": "LvB8f_3cgGA2",
        "colab_type": "code",
        "colab": {
          "base_uri": "https://localhost:8080/",
          "height": 36
        },
        "outputId": "49921316-b679-485d-8081-285bc784d08a"
      },
      "source": [
        "\n",
        "silhouette_score(city_data_scaled, optic_city_df['optic_cluster'])"
      ],
      "execution_count": 8,
      "outputs": [
        {
          "output_type": "execute_result",
          "data": {
            "text/plain": [
              "0.029302681242652603"
            ]
          },
          "metadata": {
            "tags": []
          },
          "execution_count": 8
        }
      ]
    },
    {
      "cell_type": "markdown",
      "metadata": {
        "id": "_eyzQgPHD_Jt",
        "colab_type": "text"
      },
      "source": [
        "# Classification"
      ]
    },
    {
      "cell_type": "markdown",
      "metadata": {
        "id": "bkt7ATU1D_Ju",
        "colab_type": "text"
      },
      "source": [
        "#### Logistic Regression"
      ]
    },
    {
      "cell_type": "code",
      "metadata": {
        "ExecuteTime": {
          "end_time": "2019-11-25T13:52:30.970042Z",
          "start_time": "2019-11-25T13:52:30.938845Z"
        },
        "id": "iY8VVLs8D_Jv",
        "colab_type": "code",
        "colab": {}
      },
      "source": [
        "# scoring classification models\n",
        "@jit\n",
        "def cv_score(clf, x, y, score_func=accuracy_score):\n",
        "  '''This is a custom metric for scoring models. \n",
        "\n",
        "  args: \n",
        "      clf - classification model\n",
        "      x - independent variables\n",
        "      y - response variable\n",
        "      score_func - type of scoring metric to use on data\n",
        "  returns: the average score for the model\n",
        "\n",
        "  '''\n",
        "  result=0\n",
        "  nfold=5\n",
        "  for train, test in KFold(nfold).split(x):\n",
        "      clf.fit(x[train],y[train])\n",
        "      result += score_func(clf.predict(x[test]), y[test])\n",
        "  return result/nfold #average"
      ],
      "execution_count": 0,
      "outputs": []
    },
    {
      "cell_type": "code",
      "metadata": {
        "ExecuteTime": {
          "end_time": "2019-11-25T14:11:04.297362Z",
          "start_time": "2019-11-25T14:11:04.109875Z"
        },
        "id": "vKn30-zND_Jz",
        "colab_type": "code",
        "colab": {}
      },
      "source": [
        "# using kmeans clustering\n",
        "warnings.filterwarnings('ignore')\n",
        "@jit\n",
        "def logreg_fx(data, data_cluster):\n",
        "  ''' This function goes through the process of creating a DecisionTreeClassifier \n",
        "  model, going through a cross validation, parameter tuning, and a stratified \n",
        "  KFold cross validation for an average score using accuracy score metric\n",
        "\n",
        "  args: \n",
        "  data - dataframe (city/tract)\n",
        "  data_clusters - the copy of the dataframe with a column that has the \n",
        "  clusterization labels added on the last column the input into this argument \n",
        "  should be a pandas series of that column that contains the cluster labels\n",
        "\n",
        "  returns: average accuracy score\n",
        "  '''\n",
        "  X_tr, X_test, y_tr,y_test = train_test_split(data.values, data_cluster.values,\n",
        "                                                      random_state=5)\n",
        "  c_space = np.logspace(0.001, 0.1, 1, 10, 100)\n",
        "  logreg = LogisticRegression()\n",
        "  param_grid = {'C': c_space}\n",
        "  logreg_cv = GridSearchCV(logreg, param_grid, cv=5) #parameter tuning\n",
        "  logreg_cv.fit(X_tr, y_tr)\n",
        "\n",
        "  print(\"Tuned Logistic Regression Parameters: {}\".format(logreg_cv.best_params_)) \n",
        "  print(\"Best score is {}\".format(logreg_cv.best_score_))\n",
        "  logreg_best = LogisticRegression(C=logreg_cv.best_params_['C'])\n",
        "  score = cv_score(logreg_best, X_tr, y_tr)\n",
        "  return score"
      ],
      "execution_count": 0,
      "outputs": []
    },
    {
      "cell_type": "markdown",
      "metadata": {
        "id": "EXL5lvHKb6Tx",
        "colab_type": "text"
      },
      "source": [
        "#### Decision Tree"
      ]
    },
    {
      "cell_type": "code",
      "metadata": {
        "id": "NYUIqxmIb-Ig",
        "colab_type": "code",
        "colab": {}
      },
      "source": [
        "@jit\n",
        "def dt_fx(data, data_cluster):\n",
        "  ''' This function goes through the process of creating a DecisionTreeClassifier \n",
        "  model, going through a cross validation, parameter tuning, and a stratified \n",
        "  KFold cross validation for an average score using accuracy score metric\n",
        "\n",
        "            args: \n",
        "            data - dataframe (city/tract)\n",
        "            data_clusters - the copy of the dataframe with a column that has the \n",
        "            clusterization labels added on the last column the input into this \n",
        "            argument should be a pandas series of that column that contains the \n",
        "            cluster labels\n",
        "\n",
        "            returns: average accuracy score\n",
        "\n",
        "  '''\n",
        "  X_tr, X_test, y_tr,y_test = train_test_split(data.values, data_cluster.values,\n",
        "                                                        random_state=5)\n",
        "  dt = DecisionTreeClassifier()\n",
        "  dt_base_fit = dt.fit(X_tr, y_tr)\n",
        "  dt_base_pred = dt_base_fit.predict(X_test)\n",
        "  dt_base_score = accuracy_score(y_test, dt_base_pred)\n",
        "  print(\"Baseline Score: {}\".format(dt_base_score))\n",
        "  \n",
        "  md = np.linspace(1,32,32,endpoint=True)\n",
        "  min_samples = np.linspace(0.1,1,10,endpoint=True)\n",
        "  mleaf = np.linspace(0.1,0.5,5,endpoint=True)\n",
        "  maxfeat = list(range(1,X_tr.shape[1]))\n",
        "  param_grid = {'max_depth': md, 'min_samples_split': min_samples, 'min_samples_leaf': mleaf, \n",
        "                'max_features': maxfeat}\n",
        "  dt_cv = GridSearchCV(dt,param_grid, cv=5, scoring='accuracy')\n",
        "  dt_cv.fit(X_tr,y_tr)\n",
        "  print(\"Tuned Parameters: {}\".format(dt_cv.best_params_)) \n",
        "  print(\"Best score is {}\".format(dt_cv.best_score_))\n",
        "  dt_best = DecisionTreeClassifier(max_depth = dt_cv.best_params_['max_depth'],\n",
        "                                  min_samples_split = dt_cv.best_params_['min_samples_split'],\n",
        "                                  min_samples_leaf = dt_cv.best_params_['min_samples_leaf'],\n",
        "                                  max_features = dt_cv.best_params_['max_features'])\n",
        "  dt_best_fit = dt_best.fit(X_tr, y_tr)\n",
        "  dt_best_pred = dt_best_fit.predict(X_test)\n",
        "  dt_score = accuracy_score(y_test, dt_best_pred)\n",
        "  return dt_score"
      ],
      "execution_count": 0,
      "outputs": []
    },
    {
      "cell_type": "markdown",
      "metadata": {
        "id": "b3Fuh6nql-Hf",
        "colab_type": "text"
      },
      "source": [
        "#### Random Forest"
      ]
    },
    {
      "cell_type": "code",
      "metadata": {
        "id": "OedBIQb2D_J8",
        "colab_type": "code",
        "colab": {}
      },
      "source": [
        "@jit\n",
        "def rf_fx(data, data_cluster):\n",
        "  ''' This function goes through the process of creating a RandomForestClassifier \n",
        "  model. Model is fit to the training data and an accuracy score is printed. \n",
        "\n",
        "            args: \n",
        "            data - dataframe (city/tract)\n",
        "            data_clusters - the copy of the dataframe with a column that has the \n",
        "            clusterization labels added on the last column the input into this \n",
        "            argument should be a pandas series of that column that contains the \n",
        "            cluster labels\n",
        "\n",
        "            returns: dataframe of feature importances, average accuracy score\n",
        "\n",
        "  '''\n",
        "  X_tr, X_test, y_tr,y_test = train_test_split(data.values, data_cluster.values,\n",
        "                                                      random_state=5)\n",
        "  features = list(data.columns)\n",
        "  mod = RandomForestClassifier()\n",
        "  mod_base_fit = mod.fit(X_tr, y_tr)\n",
        "  mod_base_pred = mod_base_fit.predict(X_test)\n",
        "  mod_base_score = accuracy_score(y_test, mod_base_pred)\n",
        "  # print(\"Baseline Score: {}\".format(mod_base_score))\n",
        "\n",
        "  feature_importance = list(zip(features, mod_base_fit.feature_importances_))\n",
        "  fi_df = pd.DataFrame(feature_importance, columns=['Feature','importance'])\n",
        "  fi_df = fi_df.sort_values('importance', ascending=False)\n",
        "  return fi_df, mod_base_score"
      ],
      "execution_count": 0,
      "outputs": []
    },
    {
      "cell_type": "markdown",
      "metadata": {
        "id": "ze2g97_qmRxh",
        "colab_type": "text"
      },
      "source": [
        "#### Light GBM"
      ]
    },
    {
      "cell_type": "code",
      "metadata": {
        "id": "axhMTGn4LMm2",
        "colab_type": "code",
        "colab": {}
      },
      "source": [
        "@jit\n",
        "def gbm_fx(data, data_cluster):\n",
        "  ''' This function creates a LGBMRanker model, best attempts were made to have \n",
        "  an evaluation metric work with this function but to no avail. \n",
        "\n",
        "  args: \n",
        "            data - dataframe (city/tract)\n",
        "            data_clusters - the copy of the dataframe with a column that has the \n",
        "            clusterization labels added on the last column the input into this \n",
        "            argument should be a pandas series of that column that contains the \n",
        "            cluster labels\n",
        "\n",
        "            returns: dataframe of feature importances\n",
        "  '''\n",
        "  X_tr, X_test, y_tr,y_test = train_test_split(data.values, data_cluster.values,\n",
        "                                                      random_state=5)\n",
        "  features = list(data.columns)\n",
        "  evaluation_dict = {}\n",
        "  gbm = lgb.LGBMRanker()\n",
        "  q_train = [X_tr.shape[0]]\n",
        "  mod_base_fit = gbm.fit(X_tr, y_tr, group=q_train, callbacks=[lgb.record_evaluation(evaluation_dict)])\n",
        "  mod_base_pred = mod_base_fit.predict(X_test)\n",
        "  \n",
        "\n",
        "  feature_importance = list(zip(features, mod_base_fit.feature_importances_))\n",
        "  fi_df = pd.DataFrame(feature_importance, columns=['Feature','importance'])\n",
        "  fi_df = fi_df.sort_values('importance', ascending=False)\n",
        "  return fi_df"
      ],
      "execution_count": 0,
      "outputs": []
    },
    {
      "cell_type": "code",
      "metadata": {
        "id": "P_viqZUvPRNs",
        "colab_type": "code",
        "colab": {}
      },
      "source": [
        "@jit\n",
        "def gbm_Class_fx(data, data_cluster):\n",
        "  ''' This function goes through the process of creating a LGBMClassifier model, \n",
        "  going through a cross validation, plotting the importance of each feature, \n",
        "  and a stratified KFold cross validation for an average score using accuracy \n",
        "  score metric\n",
        "\n",
        "  args: \n",
        "  data - dataframe (city/tract)\n",
        "  data_clusters - the copy of the dataframe with a column that has the clusterization \n",
        "  labels added on the last column the input into this argument should be a pandas \n",
        "  series of that column that contains the cluster labels\n",
        "\n",
        "  returns: dataframe of feature importances, average accuracy score, standard \n",
        "  deviation of accuracy score\n",
        "\n",
        "  '''\n",
        "  X_tr, X_test, y_tr,y_test = train_test_split(data.values, data_cluster.values,\n",
        "                                                      random_state=5)\n",
        "  features = list(data.columns)\n",
        "  gbm = lgb.LGBMClassifier()\n",
        "  q_train = [X_tr.shape[0]]\n",
        "  mod_base_fit = gbm.fit(X_tr, y_tr)\n",
        "  mod_base_pred = mod_base_fit.predict(X_test)\n",
        "  score = accuracy_score(y_test, mod_base_pred)\n",
        "  print(\"Score: {}\".format(score))\n",
        "  print(\"Classes: {}\".format(mod_base_fit.classes_))\n",
        "  kfold = StratifiedKFold(n_splits=5, random_state=7)\n",
        "  results = cross_val_score(gbm, data.values, data_cluster.values, cv=kfold)\n",
        "  print(\"Accuracy: %.2f%% (%.2f%%)\" % (results.mean()*100, results.std()*100))\n",
        "\n",
        "  feature_importance = list(zip(features, mod_base_fit.feature_importances_))\n",
        "  fi_df = pd.DataFrame(feature_importance, columns=['Feature','importance'])\n",
        "  fi_df = fi_df.sort_values('importance', ascending=False)\n",
        "  return fi_df, results.mean()*100, results.std()*100"
      ],
      "execution_count": 0,
      "outputs": []
    },
    {
      "cell_type": "markdown",
      "metadata": {
        "id": "a8GO_IYBmUMr",
        "colab_type": "text"
      },
      "source": [
        "#### XGBoost"
      ]
    },
    {
      "cell_type": "code",
      "metadata": {
        "id": "cm8szuW8mXF3",
        "colab_type": "code",
        "colab": {}
      },
      "source": [
        "@jit\n",
        "def xgm_fx(data, data_cluster):\n",
        "  ''' This function goes through the process of creating a XGBClassifier model, \n",
        "  going through a cross validation, plotting the importance of each feature, \n",
        "  and a stratified KFold cross validation for an average score using accuracy score metric\n",
        "\n",
        "  args: \n",
        "  data - dataframe (city/tract)\n",
        "  data_clusters - the copy of the dataframe with a column that has the clusterization \n",
        "  labels added on the last column the input into this argument should be a pandas \n",
        "  series of that column that contains the cluster labels\n",
        "\n",
        "  returns: dataframe of feature importances, average accuracy score, standard \n",
        "  deviation of accuracy score\n",
        "\n",
        "  '''\n",
        "  data_dmatrix = xgb.DMatrix(data=data,label=data_cluster)\n",
        "  X_tr, X_test, y_tr,y_test = train_test_split(data.values, data_cluster.values,\n",
        "                                                      random_state=5)\n",
        "  features = list(data.columns)\n",
        "  xgm = xgb.XGBClassifier(objective ='binary:logistic', colsample_bytree = 0.3, \n",
        "                          learning_rate = 0.1,\n",
        "                max_depth = 5, alpha = 10, n_estimators = 10)\n",
        "  \n",
        "  mod_base_fit = xgm.fit(X_tr, y_tr)\n",
        "  mod_base_pred = mod_base_fit.predict(X_test)\n",
        "  score = accuracy_score(y_test, mod_base_pred)\n",
        "  print(\"Score: {}\".format(score))\n",
        "  print(\"Classes: {}\".format(mod_base_fit.classes_))\n",
        "\n",
        "  params = {'binary':'logistic','colsample_bytree': 0.3,'learning_rate': 0.1,\n",
        "                'max_depth': 5, 'alpha': 10}\n",
        "\n",
        "  cv_results = xgb.cv(dtrain=data_dmatrix, params=params, nfold=3,\n",
        "                    num_boost_round=50,early_stopping_rounds=10,metrics=\"error\", \n",
        "                    as_pandas=True, seed=42)\n",
        "  print(cv_results)\n",
        "\n",
        "  xgb.plot_importance(mod_base_fit)\n",
        "  plt.rcParams['figure.figsize'] = [5, 5]\n",
        "  plt.show()\n",
        "\n",
        "  kfold = StratifiedKFold(n_splits=5, random_state=7)\n",
        "  results = cross_val_score(xgm, data.values, data_cluster.values, cv=kfold)\n",
        "  print(\"Accuracy: %.2f%% (%.2f%%)\" % (results.mean()*100, results.std()*100))\n",
        "\n",
        "  feature_importance = list(zip(features, mod_base_fit.feature_importances_))\n",
        "  fi_df = pd.DataFrame(feature_importance, columns=['Feature','importance'])\n",
        "  fi_df = fi_df.sort_values('importance', ascending=False)\n",
        "  return fi_df, results.mean()*100, results.std()*100"
      ],
      "execution_count": 0,
      "outputs": []
    },
    {
      "cell_type": "code",
      "metadata": {
        "id": "ORw6a-yTThTI",
        "colab_type": "code",
        "colab": {}
      },
      "source": [
        "list_class_models = [('xgboost', xgm_fx),('lightgbm',gbm_Class_fx), \n",
        "                     ('randomforest',rf_fx), ('decisiontree', dt_fx), \n",
        "                     ('logreg',logreg_fx)]\n",
        "list_class_models_short = [('decisiontree', dt_fx), ('logreg',logreg_fx)]\n",
        "clusters_city_data = [('kmeans', kmeans_city_df['cluster']), ('OPTICS', optic_city_df['optic_cluster']),\n",
        "                      ('hdbscan', hdbs_city_df['hdbs_labels']),('heirarchical', agg_city_df['agg_predicted']),\n",
        "                      ('affinitypropagation', aff_city_df['aff_pred'])]\n",
        "clusters_tract_data = [('kmeans', kmeans_tract_df['cluster']), ('OPTICS', optic_tract_df['optic_cluster']),\n",
        "                      ('hdbscan', hdbs_tract_df['hdbs_labels']),('heirarchical', agg_tract_df['agg_predicted'])]"
      ],
      "execution_count": 0,
      "outputs": []
    },
    {
      "cell_type": "markdown",
      "metadata": {
        "id": "-KCn7_wdhaN-",
        "colab_type": "text"
      },
      "source": [
        "#### Clusterization quality assessment"
      ]
    },
    {
      "cell_type": "markdown",
      "metadata": {
        "id": "T6LzYrH_hq30",
        "colab_type": "text"
      },
      "source": [
        "Silhouette Score, Calinski-Harabasz index, Davies-Bouldin index"
      ]
    },
    {
      "cell_type": "code",
      "metadata": {
        "id": "oNHVbe9clpIU",
        "colab_type": "code",
        "colab": {}
      },
      "source": [
        "def cluster_metric(df, list_clusters, metric, metric_name):\n",
        "  new_df = pd.DataFrame(index=[metric_name])\n",
        "  for name, clust in list_clusters:\n",
        "    s_score = metric(df, clust)\n",
        "    new_df[name] = s_score\n",
        "  return(new_df)"
      ],
      "execution_count": 0,
      "outputs": []
    },
    {
      "cell_type": "code",
      "metadata": {
        "id": "ioUw-q88m9ui",
        "colab_type": "code",
        "colab": {}
      },
      "source": [
        "metric_list = [('Silhouette', silhouette_score), ('Calinski', calinski_harabasz_score),\n",
        "               ('Davies', davies_bouldin_score)]"
      ],
      "execution_count": 0,
      "outputs": []
    },
    {
      "cell_type": "code",
      "metadata": {
        "id": "EeeJtMs9nUnj",
        "colab_type": "code",
        "colab": {}
      },
      "source": [
        "def cluster_metric_comp_fx(df, list_clus, metric_ls):\n",
        "  new_df2 = pd.DataFrame()\n",
        "  for name, metric in metric_ls:\n",
        "    n_df = cluster_metric(df, list_clus, metric, name)\n",
        "    new_df2 = pd.concat([new_df2, n_df])\n",
        "  return new_df2"
      ],
      "execution_count": 0,
      "outputs": []
    },
    {
      "cell_type": "code",
      "metadata": {
        "id": "BEKeUqJzolYm",
        "colab_type": "code",
        "colab": {
          "base_uri": "https://localhost:8080/",
          "height": 143
        },
        "outputId": "e0f446cc-778a-43d0-ea9c-b9c3f8f8bfe7"
      },
      "source": [
        "cluster_metric_comp_fx(city_data_scaled, clusters_city_data, metric_list)"
      ],
      "execution_count": 72,
      "outputs": [
        {
          "output_type": "execute_result",
          "data": {
            "text/html": [
              "<div>\n",
              "<style scoped>\n",
              "    .dataframe tbody tr th:only-of-type {\n",
              "        vertical-align: middle;\n",
              "    }\n",
              "\n",
              "    .dataframe tbody tr th {\n",
              "        vertical-align: top;\n",
              "    }\n",
              "\n",
              "    .dataframe thead th {\n",
              "        text-align: right;\n",
              "    }\n",
              "</style>\n",
              "<table border=\"1\" class=\"dataframe\">\n",
              "  <thead>\n",
              "    <tr style=\"text-align: right;\">\n",
              "      <th></th>\n",
              "      <th>kmeans</th>\n",
              "      <th>OPTICS</th>\n",
              "      <th>hdbscan</th>\n",
              "      <th>heirarchical</th>\n",
              "      <th>affinitypropagation</th>\n",
              "    </tr>\n",
              "  </thead>\n",
              "  <tbody>\n",
              "    <tr>\n",
              "      <th>Silhouette</th>\n",
              "      <td>0.230830</td>\n",
              "      <td>0.029303</td>\n",
              "      <td>-0.025456</td>\n",
              "      <td>0.076439</td>\n",
              "      <td>0.070535</td>\n",
              "    </tr>\n",
              "    <tr>\n",
              "      <th>Calinski</th>\n",
              "      <td>169.031051</td>\n",
              "      <td>6.984020</td>\n",
              "      <td>5.374249</td>\n",
              "      <td>52.619429</td>\n",
              "      <td>20.672882</td>\n",
              "    </tr>\n",
              "    <tr>\n",
              "      <th>Davies</th>\n",
              "      <td>1.576720</td>\n",
              "      <td>1.542492</td>\n",
              "      <td>8.904455</td>\n",
              "      <td>2.182865</td>\n",
              "      <td>2.091511</td>\n",
              "    </tr>\n",
              "  </tbody>\n",
              "</table>\n",
              "</div>"
            ],
            "text/plain": [
              "                kmeans    OPTICS   hdbscan  heirarchical  affinitypropagation\n",
              "Silhouette    0.230830  0.029303 -0.025456      0.076439             0.070535\n",
              "Calinski    169.031051  6.984020  5.374249     52.619429            20.672882\n",
              "Davies        1.576720  1.542492  8.904455      2.182865             2.091511"
            ]
          },
          "metadata": {
            "tags": []
          },
          "execution_count": 72
        }
      ]
    },
    {
      "cell_type": "code",
      "metadata": {
        "id": "12_qVFEusWsF",
        "colab_type": "code",
        "colab": {
          "base_uri": "https://localhost:8080/",
          "height": 143
        },
        "outputId": "e15f51d6-3c73-4f46-87ed-023e3fec7404"
      },
      "source": [
        "cluster_metric_comp_fx(tract_data_scaled, clusters_tract_data, metric_list)"
      ],
      "execution_count": 73,
      "outputs": [
        {
          "output_type": "execute_result",
          "data": {
            "text/html": [
              "<div>\n",
              "<style scoped>\n",
              "    .dataframe tbody tr th:only-of-type {\n",
              "        vertical-align: middle;\n",
              "    }\n",
              "\n",
              "    .dataframe tbody tr th {\n",
              "        vertical-align: top;\n",
              "    }\n",
              "\n",
              "    .dataframe thead th {\n",
              "        text-align: right;\n",
              "    }\n",
              "</style>\n",
              "<table border=\"1\" class=\"dataframe\">\n",
              "  <thead>\n",
              "    <tr style=\"text-align: right;\">\n",
              "      <th></th>\n",
              "      <th>kmeans</th>\n",
              "      <th>OPTICS</th>\n",
              "      <th>hdbscan</th>\n",
              "      <th>heirarchical</th>\n",
              "    </tr>\n",
              "  </thead>\n",
              "  <tbody>\n",
              "    <tr>\n",
              "      <th>Silhouette</th>\n",
              "      <td>0.235117</td>\n",
              "      <td>-0.535816</td>\n",
              "      <td>-0.276955</td>\n",
              "      <td>0.205488</td>\n",
              "    </tr>\n",
              "    <tr>\n",
              "      <th>Calinski</th>\n",
              "      <td>7156.372782</td>\n",
              "      <td>7.228896</td>\n",
              "      <td>116.780361</td>\n",
              "      <td>5959.955292</td>\n",
              "    </tr>\n",
              "    <tr>\n",
              "      <th>Davies</th>\n",
              "      <td>1.377036</td>\n",
              "      <td>1.574508</td>\n",
              "      <td>1.831766</td>\n",
              "      <td>1.478761</td>\n",
              "    </tr>\n",
              "  </tbody>\n",
              "</table>\n",
              "</div>"
            ],
            "text/plain": [
              "                 kmeans    OPTICS     hdbscan  heirarchical\n",
              "Silhouette     0.235117 -0.535816   -0.276955      0.205488\n",
              "Calinski    7156.372782  7.228896  116.780361   5959.955292\n",
              "Davies         1.377036  1.574508    1.831766      1.478761"
            ]
          },
          "metadata": {
            "tags": []
          },
          "execution_count": 73
        }
      ]
    },
    {
      "cell_type": "markdown",
      "metadata": {
        "id": "RvgD4xcGms1R",
        "colab_type": "text"
      },
      "source": [
        "#### Comparison of all models run with scores from each model and each classification method"
      ]
    },
    {
      "cell_type": "code",
      "metadata": {
        "id": "vc7lYYpxLgOf",
        "colab_type": "code",
        "colab": {}
      },
      "source": [
        "@jit\n",
        "def classification_models_fx(df, data_cluster, list_models): \n",
        "    comp_df = pd.DataFrame(index=['score'])\n",
        "    for mod_name, mod in tqdm(list_models):\n",
        "        for clus_name, cluster in tqdm(data_cluster):\n",
        "            result = mod(df, cluster)\n",
        "            if type(result) == np.float64:\n",
        "                score = result.copy()\n",
        "                comp_df[mod_name +'_'+ df.name +'_'+ clus_name +'_'+ 'score'] = score\n",
        "            elif len(result) == 2:\n",
        "                comp_df[mod_name +'_'+ df.name +'_'+ clus_name +'_'+ 'score'] = result[1]\n",
        "            else:\n",
        "                comp_df[mod_name +'_'+ df.name +'_'+ clus_name +'_'+ 'score'] = result[1]\n",
        "                comp_df[mod_name +'_'+ df.name +'_'+ clus_name +'_'+ 'std'] = result[2]\n",
        "            comp_df.to_csv('/content/gdrive/My Drive/Health_Scores_CAP2/manipulated_data/model_comparison_processing.csv')\n",
        "    return comp_df"
      ],
      "execution_count": 0,
      "outputs": []
    },
    {
      "cell_type": "code",
      "metadata": {
        "id": "uvbjQevxXf6d",
        "colab_type": "code",
        "outputId": "5043b022-4dfb-40d4-f214-596e94f07d51",
        "colab": {
          "base_uri": "https://localhost:8080/",
          "height": 1000
        }
      },
      "source": [
        "model_comparison_city_df = classification_models_fx(city_data_scaled, clusters_city_data, \n",
        "                                               list_class_models)\n",
        "model_comparison_city_df.to_csv('/content/gdrive/My Drive/Health_Scores_CAP2/manipulated_data/model_comparison_city.csv')\n"
      ],
      "execution_count": 0,
      "outputs": [
        {
          "output_type": "stream",
          "text": [
            "  0%|          | 0/5 [00:00<?, ?it/s]\n",
            "  0%|          | 0/5 [00:00<?, ?it/s]\u001b[A"
          ],
          "name": "stderr"
        },
        {
          "output_type": "stream",
          "text": [
            "Score: 0.972972972972973\n",
            "Classes: [0 1]\n",
            "    train-error-mean  train-error-std  test-error-mean  test-error-std\n",
            "0           0.078231         0.005554         0.142857        0.009620\n",
            "1           0.044218         0.012105         0.074830        0.025454\n",
            "2           0.034013         0.024211         0.068027        0.029391\n",
            "3           0.018140         0.006414         0.058957        0.016969\n",
            "4           0.012472         0.005781         0.052154        0.016034\n",
            "5           0.011338         0.004242         0.043084        0.012827\n",
            "6           0.007937         0.001603         0.038549        0.011562\n",
            "7           0.010204         0.002777         0.038549        0.011562\n",
            "8           0.005669         0.004242         0.040817        0.009620\n",
            "9           0.004535         0.003207         0.034014        0.009620\n",
            "10          0.004535         0.003207         0.031746        0.006413\n",
            "11          0.004535         0.003207         0.036281        0.008484\n",
            "12          0.004535         0.003207         0.038549        0.006413\n",
            "13          0.004535         0.003207         0.038549        0.008484\n",
            "14          0.004535         0.003207         0.027211        0.000000\n",
            "15          0.004535         0.003207         0.024943        0.003207\n",
            "16          0.003401         0.002777         0.024943        0.006414\n",
            "17          0.003401         0.002777         0.022676        0.003207\n"
          ],
          "name": "stdout"
        },
        {
          "output_type": "display_data",
          "data": {
            "image/png": "[encoded data removed]",
            "text/plain": [
              "<Figure size 432x288 with 1 Axes>"
            ]
          },
          "metadata": {
            "tags": []
          }
        },
        {
          "output_type": "stream",
          "text": [
            "Accuracy: 97.50% (1.33%)\n"
          ],
          "name": "stdout"
        },
        {
          "output_type": "stream",
          "text": [
            "\n",
            " 20%|██        | 1/5 [00:01<00:07,  1.88s/it]\u001b[A"
          ],
          "name": "stderr"
        },
        {
          "output_type": "stream",
          "text": [
            "Score: 0.9819819819819819\n",
            "Classes: [-1  0]\n",
            "   train-error-mean  train-error-std  test-error-mean  test-error-std\n",
            "0         -0.981859         0.004243        -0.981859        0.008484\n"
          ],
          "name": "stdout"
        },
        {
          "output_type": "display_data",
          "data": {
            "image/png": "[encoded data removed]",
            "text/plain": [
              "<Figure size 360x360 with 1 Axes>"
            ]
          },
          "metadata": {
            "tags": []
          }
        },
        {
          "output_type": "stream",
          "text": [
            "\n",
            " 40%|████      | 2/5 [00:02<00:04,  1.42s/it]\u001b[A"
          ],
          "name": "stderr"
        },
        {
          "output_type": "stream",
          "text": [
            "Accuracy: 98.19% (0.54%)\n",
            "Score: 0.6756756756756757\n",
            "Classes: [-1  0  1]\n",
            "    train-error-mean  train-error-std  test-error-mean  test-error-std\n",
            "0       5.442167e-02         0.077910         0.092970        0.088581\n",
            "1       3.174600e-02         0.078568         0.120181        0.063167\n",
            "2       2.721100e-02         0.074675         0.113379        0.086108\n",
            "3       3.061233e-02         0.043381         0.122449        0.088871\n",
            "4       4.308400e-02         0.035166         0.102041        0.085509\n",
            "5       4.308367e-02         0.039504         0.092971        0.083562\n",
            "6       4.988667e-02         0.044116         0.090703        0.086108\n",
            "7       5.102033e-02         0.038881         0.081633        0.075138\n",
            "8       3.514767e-02         0.028906         0.097506        0.077828\n",
            "9       2.607733e-02         0.022275         0.090703        0.073338\n",
            "10      1.360533e-02         0.038881         0.083900        0.075412\n",
            "11     -3.333333e-07         0.047457         0.079365        0.078026\n",
            "12      2.267333e-03         0.042513         0.088435        0.064056\n",
            "13     -1.133800e-02         0.035818         0.074830        0.075138\n",
            "14     -2.834433e-02         0.038515         0.077097        0.064854\n",
            "15     -3.401333e-02         0.021691         0.081633        0.080682\n",
            "16     -3.288000e-02         0.032899         0.070295        0.079397\n",
            "17     -4.081633e-02         0.036317         0.061224        0.083870\n",
            "18     -4.535133e-02         0.030465         0.065760        0.078812\n",
            "19     -4.875300e-02         0.036983         0.070295        0.084845\n",
            "20     -6.009100e-02         0.025804         0.065760        0.086466\n",
            "21     -6.462600e-02         0.028995         0.070295        0.075412\n",
            "22     -7.709733e-02         0.030465         0.052154        0.075001\n",
            "23     -8.730167e-02         0.023291         0.043084        0.083377\n",
            "24     -8.730167e-02         0.035710         0.049887        0.077828\n",
            "25     -9.637200e-02         0.029696         0.049886        0.078812\n",
            "26     -1.031747e-01         0.024892         0.031746        0.081317\n",
            "27     -1.009070e-01         0.023620         0.031746        0.081317\n",
            "28     -1.020407e-01         0.029391         0.031746        0.075820\n",
            "29     -1.156463e-01         0.030040         0.029478        0.075412\n",
            "30     -1.213153e-01         0.033133         0.031746        0.078026\n",
            "31     -1.213153e-01         0.032899         0.024943        0.070331\n",
            "32     -1.213150e-01         0.030465         0.024943        0.070331\n",
            "33     -1.303857e-01         0.024892         0.013605        0.069596\n"
          ],
          "name": "stdout"
        },
        {
          "output_type": "display_data",
          "data": {
            "image/png": "[encoded data removed]",
            "text/plain": [
              "<Figure size 360x360 with 1 Axes>"
            ]
          },
          "metadata": {
            "tags": []
          }
        },
        {
          "output_type": "stream",
          "text": [
            "\n",
            " 60%|██████    | 3/5 [00:03<00:02,  1.25s/it]\u001b[A"
          ],
          "name": "stderr"
        },
        {
          "output_type": "stream",
          "text": [
            "Accuracy: 63.26% (1.26%)\n",
            "Score: 0.8108108108108109\n",
            "Classes: [0 1 2 3 4 5 6]\n",
            "    train-error-mean  train-error-std  test-error-mean  test-error-std\n",
            "0          -1.180272         0.024684        -0.784580        0.239183\n",
            "1          -1.252835         0.023620        -0.995465        0.108607\n",
            "2          -1.244898         0.042027        -1.058957        0.051609\n",
            "3          -1.162132         0.050932        -0.979592        0.047457\n",
            "4          -1.181406         0.018491        -1.002268        0.023125\n",
            "5          -1.210884         0.019440        -1.018141        0.023125\n",
            "6          -1.218821         0.024264        -1.009070        0.012827\n",
            "7          -1.231292         0.005554        -1.034014        0.060080\n",
            "8          -1.226757         0.004242        -1.029478        0.047889\n",
            "9          -1.229025         0.003206        -1.058957        0.069891\n",
            "10         -1.235828         0.008484        -1.072562        0.057006\n",
            "11         -1.239229         0.011224        -1.070294        0.050399\n",
            "12         -1.244898         0.011109        -1.074830        0.045465\n",
            "13         -1.247165         0.009753        -1.083900        0.052498\n",
            "14         -1.250567         0.009753        -1.081632        0.044087\n",
            "15         -1.253968         0.015792        -1.102041        0.082197\n",
            "16         -1.255102         0.024685        -1.131519        0.118783\n"
          ],
          "name": "stdout"
        },
        {
          "output_type": "display_data",
          "data": {
            "image/png": "[encoded data removed]",
            "text/plain": [
              "<Figure size 360x360 with 1 Axes>"
            ]
          },
          "metadata": {
            "tags": []
          }
        },
        {
          "output_type": "stream",
          "text": [
            "\n",
            " 80%|████████  | 4/5 [00:04<00:01,  1.15s/it]\u001b[A"
          ],
          "name": "stderr"
        },
        {
          "output_type": "stream",
          "text": [
            "Accuracy: 79.99% (5.45%)\n",
            "Score: 0.40540540540540543\n",
            "Classes: [ 0  1  2  3  4  5  6  7  8  9 10 11 12 13 14 15 16 17 18 19 20 21 22 23\n",
            " 24 25 26 27 28 29 30 31 32]\n",
            "   train-error-mean  train-error-std  test-error-mean  test-error-std\n",
            "0        -14.232426         0.434606       -12.961451        0.376567\n",
            "1        -14.304989         0.475780       -14.306123        0.951523\n",
            "2        -14.308390         0.473921       -14.312925        0.955599\n"
          ],
          "name": "stdout"
        },
        {
          "output_type": "display_data",
          "data": {
            "image/png": "[encoded data removed]",
            "text/plain": [
              "<Figure size 360x360 with 1 Axes>"
            ]
          },
          "metadata": {
            "tags": []
          }
        },
        {
          "output_type": "stream",
          "text": [
            "\n",
            "100%|██████████| 5/5 [00:05<00:00,  1.22s/it]\u001b[A\n",
            " 20%|██        | 1/5 [00:05<00:21,  5.39s/it]\n",
            "  0%|          | 0/5 [00:00<?, ?it/s]\u001b[A"
          ],
          "name": "stderr"
        },
        {
          "output_type": "stream",
          "text": [
            "Accuracy: 51.48% (4.99%)\n",
            "Score: 0.9819819819819819\n",
            "Classes: [0 1]\n"
          ],
          "name": "stdout"
        },
        {
          "output_type": "stream",
          "text": [
            "\n",
            " 20%|██        | 1/5 [00:01<00:04,  1.22s/it]\u001b[A"
          ],
          "name": "stderr"
        },
        {
          "output_type": "stream",
          "text": [
            "Accuracy: 97.28% (0.55%)\n",
            "Score: 0.9819819819819819\n",
            "Classes: [-1  0]\n"
          ],
          "name": "stdout"
        },
        {
          "output_type": "stream",
          "text": [
            "\n",
            " 40%|████      | 2/5 [00:01<00:03,  1.01s/it]\u001b[A"
          ],
          "name": "stderr"
        },
        {
          "output_type": "stream",
          "text": [
            "Accuracy: 99.10% (1.10%)\n",
            "Score: 0.7027027027027027\n",
            "Classes: [-1  0  1]\n"
          ],
          "name": "stdout"
        },
        {
          "output_type": "stream",
          "text": [
            "\n",
            " 60%|██████    | 3/5 [00:03<00:02,  1.16s/it]\u001b[A"
          ],
          "name": "stderr"
        },
        {
          "output_type": "stream",
          "text": [
            "Accuracy: 65.07% (4.15%)\n",
            "Score: 0.8648648648648649\n",
            "Classes: [0 1 2 3 4 5 6]\n"
          ],
          "name": "stdout"
        },
        {
          "output_type": "stream",
          "text": [
            "\n",
            " 80%|████████  | 4/5 [00:06<00:01,  1.81s/it]\u001b[A"
          ],
          "name": "stderr"
        },
        {
          "output_type": "stream",
          "text": [
            "Accuracy: 81.60% (5.57%)\n",
            "Score: 0.5225225225225225\n",
            "Classes: [ 0  1  2  3  4  5  6  7  8  9 10 11 12 13 14 15 16 17 18 19 20 21 22 23\n",
            " 24 25 26 27 28 29 30 31 32]\n"
          ],
          "name": "stdout"
        },
        {
          "output_type": "stream",
          "text": [
            "\n",
            "100%|██████████| 5/5 [00:22<00:00,  6.19s/it]\u001b[A\n",
            " 40%|████      | 2/5 [00:28<00:32, 10.67s/it]\n",
            "  0%|          | 0/5 [00:00<?, ?it/s]\u001b[A"
          ],
          "name": "stderr"
        },
        {
          "output_type": "stream",
          "text": [
            "Accuracy: 56.49% (3.70%)\n"
          ],
          "name": "stdout"
        },
        {
          "output_type": "stream",
          "text": [
            "\n",
            " 20%|██        | 1/5 [00:00<00:00,  4.21it/s]\u001b[A\n",
            "100%|██████████| 5/5 [00:00<00:00,  5.61it/s]\u001b[A\n",
            " 60%|██████    | 3/5 [00:28<00:15,  7.59s/it]\n",
            "  0%|          | 0/5 [00:00<?, ?it/s]\u001b[A"
          ],
          "name": "stderr"
        },
        {
          "output_type": "stream",
          "text": [
            "Baseline Score: 0.9009009009009009\n"
          ],
          "name": "stdout"
        },
        {
          "output_type": "stream",
          "text": [
            "\n",
            " 20%|██        | 1/5 [07:38<30:32, 458.12s/it]\u001b[A"
          ],
          "name": "stderr"
        },
        {
          "output_type": "stream",
          "text": [
            "Tuned Parameters: {'max_depth': 13.0, 'max_features': 20, 'min_samples_leaf': 0.1, 'min_samples_split': 0.4}\n",
            "Best score is 0.9242424242424242\n",
            "Baseline Score: 0.9819819819819819\n"
          ],
          "name": "stdout"
        },
        {
          "output_type": "stream",
          "text": [
            "\n",
            " 40%|████      | 2/5 [14:57<22:37, 452.48s/it]\u001b[A"
          ],
          "name": "stderr"
        },
        {
          "output_type": "stream",
          "text": [
            "Tuned Parameters: {'max_depth': 1.0, 'max_features': 1, 'min_samples_leaf': 0.1, 'min_samples_split': 0.1}\n",
            "Best score is 0.9818181818181818\n",
            "Baseline Score: 0.6666666666666666\n"
          ],
          "name": "stdout"
        },
        {
          "output_type": "stream",
          "text": [
            "\n",
            " 60%|██████    | 3/5 [22:50<15:17, 458.63s/it]\u001b[A"
          ],
          "name": "stderr"
        },
        {
          "output_type": "stream",
          "text": [
            "Tuned Parameters: {'max_depth': 16.0, 'max_features': 17, 'min_samples_leaf': 0.1, 'min_samples_split': 0.4}\n",
            "Best score is 0.6848484848484848\n",
            "Baseline Score: 0.7657657657657657\n"
          ],
          "name": "stdout"
        },
        {
          "output_type": "stream",
          "text": [
            "\n",
            " 80%|████████  | 4/5 [30:33<07:40, 460.07s/it]\u001b[A"
          ],
          "name": "stderr"
        },
        {
          "output_type": "stream",
          "text": [
            "Tuned Parameters: {'max_depth': 9.0, 'max_features': 18, 'min_samples_leaf': 0.1, 'min_samples_split': 0.2}\n",
            "Best score is 0.6545454545454545\n",
            "Baseline Score: 0.3153153153153153\n"
          ],
          "name": "stdout"
        },
        {
          "output_type": "stream",
          "text": [
            "\n",
            "100%|██████████| 5/5 [39:04<00:00, 475.20s/it]\u001b[A\n",
            " 80%|████████  | 4/5 [39:33<11:48, 708.62s/it]\n",
            "  0%|          | 0/5 [00:00<?, ?it/s]\u001b[A\n",
            " 60%|██████    | 3/5 [00:00<00:00, 19.84it/s]\u001b[A"
          ],
          "name": "stderr"
        },
        {
          "output_type": "stream",
          "text": [
            "Tuned Parameters: {'max_depth': 21.0, 'max_features': 14, 'min_samples_leaf': 0.1, 'min_samples_split': 0.2}\n",
            "Best score is 0.2515151515151515\n",
            "Tuned Logistic Regression Parameters: {'C': 1.0046157902783952}\n",
            "Best score is 0.990909090909091\n",
            "Tuned Logistic Regression Parameters: {'C': 1.0046157902783952}\n",
            "Best score is 0.990909090909091\n",
            "Tuned Logistic Regression Parameters: {'C': 1.0046157902783952}\n",
            "Best score is 0.6303030303030303\n"
          ],
          "name": "stdout"
        },
        {
          "output_type": "stream",
          "text": [
            "\n",
            " 80%|████████  | 4/5 [00:00<00:00, 12.68it/s]\u001b[A"
          ],
          "name": "stderr"
        },
        {
          "output_type": "stream",
          "text": [
            "Tuned Logistic Regression Parameters: {'C': 1.0046157902783952}\n",
            "Best score is 0.7909090909090909\n",
            "Tuned Logistic Regression Parameters: {'C': 1.0046157902783952}\n",
            "Best score is 0.6484848484848484\n"
          ],
          "name": "stdout"
        },
        {
          "output_type": "stream",
          "text": [
            "\n",
            "100%|██████████| 5/5 [00:00<00:00,  4.55it/s]\u001b[A\n",
            "100%|██████████| 5/5 [39:34<00:00, 496.29s/it]\n"
          ],
          "name": "stderr"
        }
      ]
    },
    {
      "cell_type": "code",
      "metadata": {
        "id": "AHds9cjVmsLf",
        "colab_type": "code",
        "outputId": "e39af591-e27b-469d-93e9-7838db5e81ad",
        "colab": {
          "base_uri": "https://localhost:8080/",
          "height": 100
        }
      },
      "source": [
        "model_comparison_city_df"
      ],
      "execution_count": 0,
      "outputs": [
        {
          "output_type": "execute_result",
          "data": {
            "text/html": [
              "<div>\n",
              "<style scoped>\n",
              "    .dataframe tbody tr th:only-of-type {\n",
              "        vertical-align: middle;\n",
              "    }\n",
              "\n",
              "    .dataframe tbody tr th {\n",
              "        vertical-align: top;\n",
              "    }\n",
              "\n",
              "    .dataframe thead th {\n",
              "        text-align: right;\n",
              "    }\n",
              "</style>\n",
              "<table border=\"1\" class=\"dataframe\">\n",
              "  <thead>\n",
              "    <tr style=\"text-align: right;\">\n",
              "      <th></th>\n",
              "      <th>xgboost_city_kmeans_score</th>\n",
              "      <th>xgboost_city_kmeans_std</th>\n",
              "      <th>xgboost_city_OPTICS_score</th>\n",
              "      <th>xgboost_city_OPTICS_std</th>\n",
              "      <th>xgboost_city_hdbscan_score</th>\n",
              "      <th>xgboost_city_hdbscan_std</th>\n",
              "      <th>xgboost_city_heirarchical_score</th>\n",
              "      <th>xgboost_city_heirarchical_std</th>\n",
              "      <th>xgboost_city_affinitypropagation_score</th>\n",
              "      <th>xgboost_city_affinitypropagation_std</th>\n",
              "      <th>lightgbm_city_kmeans_score</th>\n",
              "      <th>lightgbm_city_kmeans_std</th>\n",
              "      <th>lightgbm_city_OPTICS_score</th>\n",
              "      <th>lightgbm_city_OPTICS_std</th>\n",
              "      <th>lightgbm_city_hdbscan_score</th>\n",
              "      <th>lightgbm_city_hdbscan_std</th>\n",
              "      <th>lightgbm_city_heirarchical_score</th>\n",
              "      <th>lightgbm_city_heirarchical_std</th>\n",
              "      <th>lightgbm_city_affinitypropagation_score</th>\n",
              "      <th>lightgbm_city_affinitypropagation_std</th>\n",
              "      <th>randomforest_city_kmeans_score</th>\n",
              "      <th>randomforest_city_OPTICS_score</th>\n",
              "      <th>randomforest_city_hdbscan_score</th>\n",
              "      <th>randomforest_city_heirarchical_score</th>\n",
              "      <th>randomforest_city_affinitypropagation_score</th>\n",
              "      <th>decisiontree_city_kmeans_score</th>\n",
              "      <th>decisiontree_city_OPTICS_score</th>\n",
              "      <th>decisiontree_city_hdbscan_score</th>\n",
              "      <th>decisiontree_city_heirarchical_score</th>\n",
              "      <th>decisiontree_city_affinitypropagation_score</th>\n",
              "      <th>logreg_city_kmeans_score</th>\n",
              "      <th>logreg_city_OPTICS_score</th>\n",
              "      <th>logreg_city_hdbscan_score</th>\n",
              "      <th>logreg_city_heirarchical_score</th>\n",
              "      <th>logreg_city_affinitypropagation_score</th>\n",
              "    </tr>\n",
              "  </thead>\n",
              "  <tbody>\n",
              "    <tr>\n",
              "      <th>score</th>\n",
              "      <td>97.499824</td>\n",
              "      <td>1.334243</td>\n",
              "      <td>98.191915</td>\n",
              "      <td>0.537793</td>\n",
              "      <td>63.258018</td>\n",
              "      <td>1.264024</td>\n",
              "      <td>79.994827</td>\n",
              "      <td>5.44951</td>\n",
              "      <td>51.484282</td>\n",
              "      <td>4.993929</td>\n",
              "      <td>97.280271</td>\n",
              "      <td>0.547602</td>\n",
              "      <td>99.101124</td>\n",
              "      <td>1.100894</td>\n",
              "      <td>65.074284</td>\n",
              "      <td>4.150591</td>\n",
              "      <td>81.595383</td>\n",
              "      <td>5.571719</td>\n",
              "      <td>56.489042</td>\n",
              "      <td>3.70258</td>\n",
              "      <td>0.972973</td>\n",
              "      <td>0.981982</td>\n",
              "      <td>0.648649</td>\n",
              "      <td>0.810811</td>\n",
              "      <td>0.441441</td>\n",
              "      <td>0.927928</td>\n",
              "      <td>0.981982</td>\n",
              "      <td>0.648649</td>\n",
              "      <td>0.612613</td>\n",
              "      <td>0.189189</td>\n",
              "      <td>0.990909</td>\n",
              "      <td>0.984848</td>\n",
              "      <td>0.609091</td>\n",
              "      <td>0.787879</td>\n",
              "      <td>0.575758</td>\n",
              "    </tr>\n",
              "  </tbody>\n",
              "</table>\n",
              "</div>"
            ],
            "text/plain": [
              "       xgboost_city_kmeans_score  ...  logreg_city_affinitypropagation_score\n",
              "score                  97.499824  ...                               0.575758\n",
              "\n",
              "[1 rows x 35 columns]"
            ]
          },
          "metadata": {
            "tags": []
          },
          "execution_count": 21
        }
      ]
    },
    {
      "cell_type": "code",
      "metadata": {
        "id": "Nz-Fm9nBu1yl",
        "colab_type": "code",
        "outputId": "df27b169-f645-43fc-fb19-b0b67bc78172",
        "colab": {
          "base_uri": "https://localhost:8080/",
          "height": 654
        }
      },
      "source": [
        "model_comparison_tract_df = classification_models_fx(tract_data_scaled, clusters_tract_data, \n",
        "                                               list_class_models_short)\n",
        "model_comparison_tract_df.to_csv('/content/gdrive/My Drive/Health_Scores_CAP2/manipulated_data/model_comparison_tract.csv')"
      ],
      "execution_count": 0,
      "outputs": [
        {
          "output_type": "stream",
          "text": [
            "  0%|          | 0/2 [00:00<?, ?it/s]\n",
            "  0%|          | 0/4 [00:00<?, ?it/s]\u001b[A"
          ],
          "name": "stderr"
        },
        {
          "output_type": "stream",
          "text": [
            "Baseline Score: 0.9542610250297974\n",
            "Tuned Parameters: {'max_depth': 17.0, 'max_features': 23, 'min_samples_leaf': 0.1, 'min_samples_split': 0.1}\n",
            "Best score is 0.808253873659118\n"
          ],
          "name": "stdout"
        },
        {
          "output_type": "stream",
          "text": [
            "\n",
            " 25%|██▌       | 1/4 [1:07:47<3:23:22, 4067.51s/it]\u001b[A"
          ],
          "name": "stderr"
        },
        {
          "output_type": "stream",
          "text": [
            "Baseline Score: 0.9384684147794994\n"
          ],
          "name": "stdout"
        },
        {
          "output_type": "stream",
          "text": [
            "\n",
            " 50%|█████     | 2/4 [2:27:01<2:22:26, 4273.45s/it]\u001b[A"
          ],
          "name": "stderr"
        },
        {
          "output_type": "stream",
          "text": [
            "Tuned Parameters: {'max_depth': 1.0, 'max_features': 1, 'min_samples_leaf': 0.1, 'min_samples_split': 0.1}\n",
            "Best score is 0.9616607071911005\n",
            "Baseline Score: 0.8636769964243146\n"
          ],
          "name": "stdout"
        },
        {
          "output_type": "stream",
          "text": [
            "\n",
            " 75%|███████▌  | 3/4 [4:02:44<1:18:34, 4714.25s/it]\u001b[A"
          ],
          "name": "stderr"
        },
        {
          "output_type": "stream",
          "text": [
            "Tuned Parameters: {'max_depth': 26.0, 'max_features': 23, 'min_samples_leaf': 0.1, 'min_samples_split': 0.4}\n",
            "Best score is 0.8423718712753278\n",
            "Baseline Score: 0.9366805721096544\n"
          ],
          "name": "stdout"
        },
        {
          "output_type": "stream",
          "text": [
            "\n",
            "100%|██████████| 4/4 [5:10:25<00:00, 4518.37s/it]  \u001b[A\n",
            " 50%|█████     | 1/2 [5:10:25<5:10:25, 18625.60s/it]\n",
            "  0%|          | 0/4 [00:00<?, ?it/s]\u001b[A"
          ],
          "name": "stderr"
        },
        {
          "output_type": "stream",
          "text": [
            "Tuned Parameters: {'max_depth': 4.0, 'max_features': 27, 'min_samples_leaf': 0.1, 'min_samples_split': 0.6}\n",
            "Best score is 0.8471891140246325\n",
            "Tuned Logistic Regression Parameters: {'C': 1.0046157902783952}\n",
            "Best score is 0.9536650774731824\n"
          ],
          "name": "stdout"
        },
        {
          "output_type": "stream",
          "text": [
            "\n",
            " 25%|██▌       | 1/4 [00:06<00:19,  6.59s/it]\u001b[A"
          ],
          "name": "stderr"
        },
        {
          "output_type": "stream",
          "text": [
            "Tuned Logistic Regression Parameters: {'C': 1.0046157902783952}\n",
            "Best score is 0.9616110448947159\n"
          ],
          "name": "stdout"
        },
        {
          "output_type": "stream",
          "text": [
            "\n",
            " 50%|█████     | 2/4 [02:38<01:40, 50.09s/it]\u001b[A"
          ],
          "name": "stderr"
        },
        {
          "output_type": "stream",
          "text": [
            "Tuned Logistic Regression Parameters: {'C': 1.0046157902783952}\n",
            "Best score is 0.8911899086213747\n"
          ],
          "name": "stdout"
        },
        {
          "output_type": "stream",
          "text": [
            "\n",
            " 75%|███████▌  | 3/4 [06:20<01:41, 101.83s/it]\u001b[A"
          ],
          "name": "stderr"
        },
        {
          "output_type": "stream",
          "text": [
            "Tuned Logistic Regression Parameters: {'C': 1.0046157902783952}\n",
            "Best score is 0.942938021454112\n"
          ],
          "name": "stdout"
        },
        {
          "output_type": "stream",
          "text": [
            "\n",
            "100%|██████████| 4/4 [06:27<00:00, 73.34s/it] \u001b[A\n",
            "100%|██████████| 2/2 [5:16:53<00:00, 13154.21s/it]  \n"
          ],
          "name": "stderr"
        }
      ]
    },
    {
      "cell_type": "code",
      "metadata": {
        "id": "RIqHwLVE4IdF",
        "colab_type": "code",
        "outputId": "76da9ba1-92bb-4d06-a971-7cd40ac9ed15",
        "colab": {
          "base_uri": "https://localhost:8080/",
          "height": 100
        }
      },
      "source": [
        "model_comparison_tract_df"
      ],
      "execution_count": 0,
      "outputs": [
        {
          "output_type": "execute_result",
          "data": {
            "text/html": [
              "<div>\n",
              "<style scoped>\n",
              "    .dataframe tbody tr th:only-of-type {\n",
              "        vertical-align: middle;\n",
              "    }\n",
              "\n",
              "    .dataframe tbody tr th {\n",
              "        vertical-align: top;\n",
              "    }\n",
              "\n",
              "    .dataframe thead th {\n",
              "        text-align: right;\n",
              "    }\n",
              "</style>\n",
              "<table border=\"1\" class=\"dataframe\">\n",
              "  <thead>\n",
              "    <tr style=\"text-align: right;\">\n",
              "      <th></th>\n",
              "      <th>decisiontree_tract_kmeans_score</th>\n",
              "      <th>decisiontree_tract_OPTICS_score</th>\n",
              "      <th>decisiontree_tract_hdbscan_score</th>\n",
              "      <th>decisiontree_tract_heirarchical_score</th>\n",
              "      <th>logreg_tract_kmeans_score</th>\n",
              "      <th>logreg_tract_OPTICS_score</th>\n",
              "      <th>logreg_tract_hdbscan_score</th>\n",
              "      <th>logreg_tract_heirarchical_score</th>\n",
              "    </tr>\n",
              "  </thead>\n",
              "  <tbody>\n",
              "    <tr>\n",
              "      <th>score</th>\n",
              "      <td>0.803784</td>\n",
              "      <td>0.957837</td>\n",
              "      <td>0.742104</td>\n",
              "      <td>0.844011</td>\n",
              "      <td>0.954013</td>\n",
              "      <td>0.961611</td>\n",
              "      <td>0.89119</td>\n",
              "      <td>0.94274</td>\n",
              "    </tr>\n",
              "  </tbody>\n",
              "</table>\n",
              "</div>"
            ],
            "text/plain": [
              "       decisiontree_tract_kmeans_score  ...  logreg_tract_heirarchical_score\n",
              "score                         0.803784  ...                          0.94274\n",
              "\n",
              "[1 rows x 8 columns]"
            ]
          },
          "metadata": {
            "tags": []
          },
          "execution_count": 16
        }
      ]
    },
    {
      "cell_type": "markdown",
      "metadata": {
        "id": "GhfXmxtHC63V",
        "colab_type": "text"
      },
      "source": [
        "CITY DATA:\n",
        "The best model is the LightGBM with the OPTICS classification method\n",
        "\n",
        "\n",
        "TRACT DATA:\n",
        "The best model is the LightGBM with the KMeans classification method"
      ]
    },
    {
      "cell_type": "code",
      "metadata": {
        "id": "x766244W1iyw",
        "colab_type": "code",
        "outputId": "d7114604-daea-4510-c2af-fb0484f172c6",
        "colab": {
          "base_uri": "https://localhost:8080/",
          "height": 129
        }
      },
      "source": [
        "results = gbm_Class_fx(city_data_scaled, optic_city_df['optic_cluster'])\n",
        "re2 = gbm_Class_fx(tract_data_scaled, kmeans_tract_df['cluster'])"
      ],
      "execution_count": 0,
      "outputs": [
        {
          "output_type": "stream",
          "text": [
            "Score: 0.9819819819819819\n",
            "Classes: [-1  0]\n",
            "Accuracy: 99.10% (1.10%)\n",
            "Score: 0.9818235995232419\n",
            "Classes: [0 1 2 3]\n",
            "Accuracy: 97.81% (0.28%)\n"
          ],
          "name": "stdout"
        }
      ]
    },
    {
      "cell_type": "code",
      "metadata": {
        "id": "3jGqRHnD3Jfy",
        "colab_type": "code",
        "colab": {}
      },
      "source": [
        "city_weights = results[0]\n",
        "city_weights = city_weights.set_index('Feature')\n",
        "tract_weights = re2[0]\n",
        "tract_weights = tract_weights.set_index('Feature')"
      ],
      "execution_count": 0,
      "outputs": []
    },
    {
      "cell_type": "markdown",
      "metadata": {
        "id": "iQnbQMDQWVLx",
        "colab_type": "text"
      },
      "source": [
        "#### Ranking "
      ]
    },
    {
      "cell_type": "code",
      "metadata": {
        "id": "l_pIrA0UiLm2",
        "colab_type": "code",
        "colab": {}
      },
      "source": [
        "cc = list(city_data_scaled.columns)\n",
        "tc = list(tract_data_scaled.columns)"
      ],
      "execution_count": 0,
      "outputs": []
    },
    {
      "cell_type": "code",
      "metadata": {
        "id": "SpCcaE8rYB94",
        "colab_type": "code",
        "colab": {}
      },
      "source": [
        "# lists to sort columns for use in the upcoming function\n",
        "ascending_false = ['Dental care','High school graduation','Income Inequality',\n",
        "                   'Life expectancy','Park access','Preventive services',\n",
        "                   'Racial/ethnic diversity','Third-grade reading proficiency',\n",
        "                   'Walkability'] # good to be positive\n",
        "ascending_true = ['Absenteeism','Air pollution - particulate matter',\n",
        "                  'Binge drinking','Breast cancer deaths',\n",
        "                  'Cardiovascular disease deaths', 'Children in Poverty',\n",
        "                  'Colorectal cancer deaths','Diabetes',\n",
        "                  'Frequent mental distress','Frequent physical distress', \n",
        "                  'High blood pressure', 'Housing cost, excessive',\n",
        "                  'Housing with potential lead risk','Limited access to healthy foods',\n",
        "                  'Neighborhood racial/ethnic segregation',\n",
        "                  'Obesity','Opioid overdose deaths','Physical inactivity',\n",
        "                  'Premature deaths (all causes)','Smoking','Unemployment',\n",
        "                  'Uninsured','Violent crime','Lead exposure risk index']# good to be negative"
      ],
      "execution_count": 0,
      "outputs": []
    },
    {
      "cell_type": "code",
      "metadata": {
        "id": "AdMNxsBYi6-K",
        "colab_type": "code",
        "colab": {}
      },
      "source": [
        "# places features into a list that is only for tract data\n",
        "a_false_tract = []\n",
        "a_true_tract = []\n",
        "for feat in tc:\n",
        "  if feat in ascending_false:\n",
        "    a_false_tract.append(feat)\n",
        "  if feat in ascending_true:\n",
        "    a_true_tract.append(feat)"
      ],
      "execution_count": 0,
      "outputs": []
    },
    {
      "cell_type": "code",
      "metadata": {
        "id": "vQsJKSrJWfc0",
        "colab_type": "code",
        "colab": {}
      },
      "source": [
        "def sorting_ranking_fx(df,a_false, a_true):\n",
        "  '''this function sorts each column in ascending or decending order depending \n",
        "    on whether positive or negative values indicate better health.  \n",
        "\n",
        "    args:\n",
        "    df - city or tract dataframe\n",
        "    a_false - a list of column names that are an indicator of good health \n",
        "    must only include the columns that are possible for the city/tract\n",
        "    a_true - a list of column names that are an indicator of poor health must \n",
        "    only include the columns that are possible for the city/tract\n",
        "\n",
        "    returns: dataframe of ranks for each location\n",
        "  '''\n",
        "  new_df = df.copy()\n",
        "  for col in df.columns:\n",
        "    if col in a_false:\n",
        "      new_df = new_df.sort_values(col, ascending=False)\n",
        "    if col in a_true:\n",
        "      new_df = new_df.sort_values(col)\n",
        "    new_df[col+'_rank'] = range(1, len(df[col])+1)\n",
        "  names = list(new_df.columns)\n",
        "  ranks = []\n",
        "  for n in names:\n",
        "    ranks.append(n.endswith('_rank'))\n",
        "  just_ranks = new_df.loc[:, ranks]\n",
        "  return just_ranks"
      ],
      "execution_count": 0,
      "outputs": []
    },
    {
      "cell_type": "code",
      "metadata": {
        "id": "c9RWvPByyGM4",
        "colab_type": "code",
        "colab": {}
      },
      "source": [
        "# no LERI\n",
        "city_no_leri = city_data_scaled.iloc[:, :-10]\n",
        "city_reg_leri = city_no_leri.merge(leri_city, how='outer',left_index=True, right_index=True)\n",
        "tract_no_leri = tract_data_scaled.iloc[:, :-10]\n",
        "tract_reg_leri = tract_no_leri.merge(leri_tract, how='outer',left_index=True, right_index=True)"
      ],
      "execution_count": 0,
      "outputs": []
    },
    {
      "cell_type": "code",
      "metadata": {
        "id": "2k0PR6NdXR_D",
        "colab_type": "code",
        "colab": {}
      },
      "source": [
        "city_ranked = sorting_ranking_fx(city_no_leri, ascending_false, ascending_true)\n",
        "tract_ranked = sorting_ranking_fx(tract_no_leri, a_false_tract, a_true_tract)"
      ],
      "execution_count": 0,
      "outputs": []
    },
    {
      "cell_type": "code",
      "metadata": {
        "id": "y5E1PdpA_RGX",
        "colab_type": "code",
        "outputId": "ab845404-a861-411b-e4b4-caea6348c09e",
        "colab": {
          "base_uri": "https://localhost:8080/",
          "height": 36
        }
      },
      "source": [
        "trc = list(tract_ranked.columns)\n",
        "re.sub('\\_rank$', '', trc[0])"
      ],
      "execution_count": 0,
      "outputs": [
        {
          "output_type": "execute_result",
          "data": {
            "text/plain": [
              "'Air pollution - particulate matter'"
            ]
          },
          "metadata": {
            "tags": []
          },
          "execution_count": 52
        }
      ]
    },
    {
      "cell_type": "markdown",
      "metadata": {
        "id": "xeC_dB8ez1rI",
        "colab_type": "text"
      },
      "source": [
        "##### Adding Weights"
      ]
    },
    {
      "cell_type": "code",
      "metadata": {
        "id": "O8SsX_kKyAV3",
        "colab_type": "code",
        "colab": {}
      },
      "source": [
        "def feature_weights(df, weights):\n",
        "  '''this function calculates the overall health score for each city/tract \n",
        "  by multiplying the ranked features by their corresponding weights. \n",
        "\n",
        "  args:\n",
        "  df - ranked city or tract dataframe\n",
        "  weights - calculated relative importance of each feature taken from classification \n",
        "  model\n",
        "\n",
        "  returns: dataframe of scores for each location, sorted in descending order with \n",
        "  respect to overall health score.\n",
        "  '''\n",
        "  weighted_df = df.copy()\n",
        "  for col in df.columns:\n",
        "    weighted_df[col+'_w'] = df.loc[:, col]*weights.loc[re.sub('\\_rank$', '', col)][0]\n",
        "  names = list(weighted_df.columns)\n",
        "  ws = []\n",
        "  for n in names:\n",
        "    ws.append(n.endswith('_w'))\n",
        "  just_weights = weighted_df.loc[:, ws]\n",
        "  w_cols = list(just_weights.columns)\n",
        "  w_cols2 = []\n",
        "  for w in w_cols:\n",
        "    w_cols2.append(re.sub('\\_rank_w$','',w))\n",
        "  just_weights.columns = w_cols2\n",
        "  just_weights.insert(0, 'Overall Health Score', just_weights.sum(axis=1))\n",
        "  just_weights = just_weights.sort_values('Overall Health Score')\n",
        "  just_weights.insert(0,'Overall Rank',range(1, len(just_weights['Overall Health Score'])+1))\n",
        "  return(just_weights)"
      ],
      "execution_count": 0,
      "outputs": []
    },
    {
      "cell_type": "code",
      "metadata": {
        "id": "AXCIw6DEzt22",
        "colab_type": "code",
        "outputId": "d3d3e943-1491-4a01-e665-d2c1de0ab94c",
        "colab": {
          "base_uri": "https://localhost:8080/",
          "height": 544
        }
      },
      "source": [
        "feature_weights(city_ranked, city_weights)"
      ],
      "execution_count": 0,
      "outputs": [
        {
          "output_type": "execute_result",
          "data": {
            "text/html": [
              "<div>\n",
              "<style scoped>\n",
              "    .dataframe tbody tr th:only-of-type {\n",
              "        vertical-align: middle;\n",
              "    }\n",
              "\n",
              "    .dataframe tbody tr th {\n",
              "        vertical-align: top;\n",
              "    }\n",
              "\n",
              "    .dataframe thead th {\n",
              "        text-align: right;\n",
              "    }\n",
              "</style>\n",
              "<table border=\"1\" class=\"dataframe\">\n",
              "  <thead>\n",
              "    <tr style=\"text-align: right;\">\n",
              "      <th></th>\n",
              "      <th>Overall Rank</th>\n",
              "      <th>Overall Health Score</th>\n",
              "      <th>Absenteeism</th>\n",
              "      <th>Air pollution - particulate matter</th>\n",
              "      <th>Binge drinking</th>\n",
              "      <th>Breast cancer deaths</th>\n",
              "      <th>Cardiovascular disease deaths</th>\n",
              "      <th>Children in Poverty</th>\n",
              "      <th>Colorectal cancer deaths</th>\n",
              "      <th>Dental care</th>\n",
              "      <th>Diabetes</th>\n",
              "      <th>Frequent mental distress</th>\n",
              "      <th>Frequent physical distress</th>\n",
              "      <th>High blood pressure</th>\n",
              "      <th>High school graduation</th>\n",
              "      <th>Housing cost, excessive</th>\n",
              "      <th>Housing with potential lead risk</th>\n",
              "      <th>Income Inequality</th>\n",
              "      <th>Life expectancy</th>\n",
              "      <th>Limited access to healthy foods</th>\n",
              "      <th>Neighborhood racial/ethnic segregation</th>\n",
              "      <th>Obesity</th>\n",
              "      <th>Opioid overdose deaths</th>\n",
              "      <th>Park access</th>\n",
              "      <th>Physical inactivity</th>\n",
              "      <th>Premature deaths (all causes)</th>\n",
              "      <th>Preventive services</th>\n",
              "      <th>Racial/ethnic diversity</th>\n",
              "      <th>Smoking</th>\n",
              "      <th>Third-grade reading proficiency</th>\n",
              "      <th>Unemployment</th>\n",
              "      <th>Uninsured</th>\n",
              "      <th>Violent crime</th>\n",
              "      <th>Walkability</th>\n",
              "    </tr>\n",
              "    <tr>\n",
              "      <th>stpl_fips</th>\n",
              "      <th></th>\n",
              "      <th></th>\n",
              "      <th></th>\n",
              "      <th></th>\n",
              "      <th></th>\n",
              "      <th></th>\n",
              "      <th></th>\n",
              "      <th></th>\n",
              "      <th></th>\n",
              "      <th></th>\n",
              "      <th></th>\n",
              "      <th></th>\n",
              "      <th></th>\n",
              "      <th></th>\n",
              "      <th></th>\n",
              "      <th></th>\n",
              "      <th></th>\n",
              "      <th></th>\n",
              "      <th></th>\n",
              "      <th></th>\n",
              "      <th></th>\n",
              "      <th></th>\n",
              "      <th></th>\n",
              "      <th></th>\n",
              "      <th></th>\n",
              "      <th></th>\n",
              "      <th></th>\n",
              "      <th></th>\n",
              "      <th></th>\n",
              "      <th></th>\n",
              "      <th></th>\n",
              "      <th></th>\n",
              "      <th></th>\n",
              "      <th></th>\n",
              "    </tr>\n",
              "  </thead>\n",
              "  <tbody>\n",
              "    <tr>\n",
              "      <th>1342425</th>\n",
              "      <td>1</td>\n",
              "      <td>62011</td>\n",
              "      <td>1200</td>\n",
              "      <td>3684</td>\n",
              "      <td>3040</td>\n",
              "      <td>1644</td>\n",
              "      <td>21</td>\n",
              "      <td>1258</td>\n",
              "      <td>32</td>\n",
              "      <td>595</td>\n",
              "      <td>900</td>\n",
              "      <td>231</td>\n",
              "      <td>85</td>\n",
              "      <td>2464</td>\n",
              "      <td>104</td>\n",
              "      <td>2727</td>\n",
              "      <td>780</td>\n",
              "      <td>287</td>\n",
              "      <td>994</td>\n",
              "      <td>3367</td>\n",
              "      <td>459</td>\n",
              "      <td>90</td>\n",
              "      <td>7314</td>\n",
              "      <td>8189</td>\n",
              "      <td>1919</td>\n",
              "      <td>18</td>\n",
              "      <td>248</td>\n",
              "      <td>9234</td>\n",
              "      <td>465</td>\n",
              "      <td>342</td>\n",
              "      <td>2457</td>\n",
              "      <td>3139</td>\n",
              "      <td>16</td>\n",
              "      <td>4708</td>\n",
              "    </tr>\n",
              "    <tr>\n",
              "      <th>4827684</th>\n",
              "      <td>2</td>\n",
              "      <td>77965</td>\n",
              "      <td>375</td>\n",
              "      <td>3132</td>\n",
              "      <td>7277</td>\n",
              "      <td>11782</td>\n",
              "      <td>4599</td>\n",
              "      <td>592</td>\n",
              "      <td>472</td>\n",
              "      <td>1995</td>\n",
              "      <td>378</td>\n",
              "      <td>546</td>\n",
              "      <td>35</td>\n",
              "      <td>480</td>\n",
              "      <td>24</td>\n",
              "      <td>2929</td>\n",
              "      <td>156</td>\n",
              "      <td>164</td>\n",
              "      <td>1582</td>\n",
              "      <td>5330</td>\n",
              "      <td>1564</td>\n",
              "      <td>910</td>\n",
              "      <td>6900</td>\n",
              "      <td>4826</td>\n",
              "      <td>1178</td>\n",
              "      <td>918</td>\n",
              "      <td>400</td>\n",
              "      <td>12312</td>\n",
              "      <td>1050</td>\n",
              "      <td>18</td>\n",
              "      <td>455</td>\n",
              "      <td>2580</td>\n",
              "      <td>256</td>\n",
              "      <td>2750</td>\n",
              "    </tr>\n",
              "    <tr>\n",
              "      <th>613214</th>\n",
              "      <td>3</td>\n",
              "      <td>80881</td>\n",
              "      <td>950</td>\n",
              "      <td>5220</td>\n",
              "      <td>4161</td>\n",
              "      <td>3151</td>\n",
              "      <td>903</td>\n",
              "      <td>2072</td>\n",
              "      <td>2216</td>\n",
              "      <td>2275</td>\n",
              "      <td>2034</td>\n",
              "      <td>714</td>\n",
              "      <td>170</td>\n",
              "      <td>1136</td>\n",
              "      <td>368</td>\n",
              "      <td>25250</td>\n",
              "      <td>3198</td>\n",
              "      <td>1271</td>\n",
              "      <td>476</td>\n",
              "      <td>3536</td>\n",
              "      <td>629</td>\n",
              "      <td>135</td>\n",
              "      <td>2208</td>\n",
              "      <td>2755</td>\n",
              "      <td>874</td>\n",
              "      <td>378</td>\n",
              "      <td>1904</td>\n",
              "      <td>2430</td>\n",
              "      <td>300</td>\n",
              "      <td>468</td>\n",
              "      <td>2964</td>\n",
              "      <td>2064</td>\n",
              "      <td>128</td>\n",
              "      <td>4543</td>\n",
              "    </tr>\n",
              "    <tr>\n",
              "      <th>4801924</th>\n",
              "      <td>4</td>\n",
              "      <td>82418</td>\n",
              "      <td>700</td>\n",
              "      <td>3000</td>\n",
              "      <td>6232</td>\n",
              "      <td>6713</td>\n",
              "      <td>5985</td>\n",
              "      <td>2294</td>\n",
              "      <td>1696</td>\n",
              "      <td>3710</td>\n",
              "      <td>1062</td>\n",
              "      <td>1092</td>\n",
              "      <td>155</td>\n",
              "      <td>896</td>\n",
              "      <td>48</td>\n",
              "      <td>4141</td>\n",
              "      <td>624</td>\n",
              "      <td>697</td>\n",
              "      <td>770</td>\n",
              "      <td>4212</td>\n",
              "      <td>306</td>\n",
              "      <td>885</td>\n",
              "      <td>6486</td>\n",
              "      <td>2128</td>\n",
              "      <td>2489</td>\n",
              "      <td>594</td>\n",
              "      <td>448</td>\n",
              "      <td>13365</td>\n",
              "      <td>1380</td>\n",
              "      <td>12</td>\n",
              "      <td>754</td>\n",
              "      <td>5117</td>\n",
              "      <td>192</td>\n",
              "      <td>4235</td>\n",
              "    </tr>\n",
              "    <tr>\n",
              "      <th>636770</th>\n",
              "      <td>5</td>\n",
              "      <td>84063</td>\n",
              "      <td>525</td>\n",
              "      <td>4692</td>\n",
              "      <td>2299</td>\n",
              "      <td>4932</td>\n",
              "      <td>273</td>\n",
              "      <td>5328</td>\n",
              "      <td>720</td>\n",
              "      <td>1470</td>\n",
              "      <td>648</td>\n",
              "      <td>378</td>\n",
              "      <td>40</td>\n",
              "      <td>192</td>\n",
              "      <td>144</td>\n",
              "      <td>33229</td>\n",
              "      <td>2028</td>\n",
              "      <td>1681</td>\n",
              "      <td>154</td>\n",
              "      <td>572</td>\n",
              "      <td>765</td>\n",
              "      <td>20</td>\n",
              "      <td>7176</td>\n",
              "      <td>1577</td>\n",
              "      <td>228</td>\n",
              "      <td>90</td>\n",
              "      <td>320</td>\n",
              "      <td>8991</td>\n",
              "      <td>105</td>\n",
              "      <td>228</td>\n",
              "      <td>1976</td>\n",
              "      <td>1978</td>\n",
              "      <td>72</td>\n",
              "      <td>1232</td>\n",
              "    </tr>\n",
              "    <tr>\n",
              "      <th>...</th>\n",
              "      <td>...</td>\n",
              "      <td>...</td>\n",
              "      <td>...</td>\n",
              "      <td>...</td>\n",
              "      <td>...</td>\n",
              "      <td>...</td>\n",
              "      <td>...</td>\n",
              "      <td>...</td>\n",
              "      <td>...</td>\n",
              "      <td>...</td>\n",
              "      <td>...</td>\n",
              "      <td>...</td>\n",
              "      <td>...</td>\n",
              "      <td>...</td>\n",
              "      <td>...</td>\n",
              "      <td>...</td>\n",
              "      <td>...</td>\n",
              "      <td>...</td>\n",
              "      <td>...</td>\n",
              "      <td>...</td>\n",
              "      <td>...</td>\n",
              "      <td>...</td>\n",
              "      <td>...</td>\n",
              "      <td>...</td>\n",
              "      <td>...</td>\n",
              "      <td>...</td>\n",
              "      <td>...</td>\n",
              "      <td>...</td>\n",
              "      <td>...</td>\n",
              "      <td>...</td>\n",
              "      <td>...</td>\n",
              "      <td>...</td>\n",
              "      <td>...</td>\n",
              "      <td>...</td>\n",
              "    </tr>\n",
              "    <tr>\n",
              "      <th>4740000</th>\n",
              "      <td>437</td>\n",
              "      <td>360725</td>\n",
              "      <td>9500</td>\n",
              "      <td>3168</td>\n",
              "      <td>703</td>\n",
              "      <td>42744</td>\n",
              "      <td>8169</td>\n",
              "      <td>31376</td>\n",
              "      <td>3096</td>\n",
              "      <td>13440</td>\n",
              "      <td>5292</td>\n",
              "      <td>8946</td>\n",
              "      <td>2010</td>\n",
              "      <td>6336</td>\n",
              "      <td>1800</td>\n",
              "      <td>21210</td>\n",
              "      <td>23868</td>\n",
              "      <td>17384</td>\n",
              "      <td>5614</td>\n",
              "      <td>5018</td>\n",
              "      <td>6256</td>\n",
              "      <td>1590</td>\n",
              "      <td>60030</td>\n",
              "      <td>5795</td>\n",
              "      <td>6137</td>\n",
              "      <td>7812</td>\n",
              "      <td>1616</td>\n",
              "      <td>31752</td>\n",
              "      <td>6330</td>\n",
              "      <td>1536</td>\n",
              "      <td>3133</td>\n",
              "      <td>11954</td>\n",
              "      <td>3216</td>\n",
              "      <td>3894</td>\n",
              "    </tr>\n",
              "    <tr>\n",
              "      <th>2241155</th>\n",
              "      <td>438</td>\n",
              "      <td>364211</td>\n",
              "      <td>7200</td>\n",
              "      <td>2544</td>\n",
              "      <td>2869</td>\n",
              "      <td>60143</td>\n",
              "      <td>9156</td>\n",
              "      <td>31006</td>\n",
              "      <td>3416</td>\n",
              "      <td>14595</td>\n",
              "      <td>7848</td>\n",
              "      <td>7749</td>\n",
              "      <td>1970</td>\n",
              "      <td>7024</td>\n",
              "      <td>2952</td>\n",
              "      <td>14443</td>\n",
              "      <td>22152</td>\n",
              "      <td>16195</td>\n",
              "      <td>6020</td>\n",
              "      <td>4394</td>\n",
              "      <td>7412</td>\n",
              "      <td>2175</td>\n",
              "      <td>51474</td>\n",
              "      <td>7999</td>\n",
              "      <td>7999</td>\n",
              "      <td>7902</td>\n",
              "      <td>3296</td>\n",
              "      <td>21303</td>\n",
              "      <td>6240</td>\n",
              "      <td>1674</td>\n",
              "      <td>4225</td>\n",
              "      <td>14749</td>\n",
              "      <td>3128</td>\n",
              "      <td>2959</td>\n",
              "    </tr>\n",
              "    <tr>\n",
              "      <th>3901000</th>\n",
              "      <td>439</td>\n",
              "      <td>366858</td>\n",
              "      <td>9750</td>\n",
              "      <td>4992</td>\n",
              "      <td>1140</td>\n",
              "      <td>44936</td>\n",
              "      <td>7581</td>\n",
              "      <td>30784</td>\n",
              "      <td>3328</td>\n",
              "      <td>14245</td>\n",
              "      <td>7326</td>\n",
              "      <td>8799</td>\n",
              "      <td>2025</td>\n",
              "      <td>6656</td>\n",
              "      <td>2984</td>\n",
              "      <td>20200</td>\n",
              "      <td>31590</td>\n",
              "      <td>17671</td>\n",
              "      <td>6048</td>\n",
              "      <td>3276</td>\n",
              "      <td>7089</td>\n",
              "      <td>2025</td>\n",
              "      <td>60306</td>\n",
              "      <td>2622</td>\n",
              "      <td>8094</td>\n",
              "      <td>7848</td>\n",
              "      <td>3352</td>\n",
              "      <td>23895</td>\n",
              "      <td>6540</td>\n",
              "      <td>2490</td>\n",
              "      <td>5057</td>\n",
              "      <td>9589</td>\n",
              "      <td>2816</td>\n",
              "      <td>1804</td>\n",
              "    </tr>\n",
              "    <tr>\n",
              "      <th>3912000</th>\n",
              "      <td>440</td>\n",
              "      <td>376354</td>\n",
              "      <td>8950</td>\n",
              "      <td>4968</td>\n",
              "      <td>1482</td>\n",
              "      <td>47950</td>\n",
              "      <td>8106</td>\n",
              "      <td>32634</td>\n",
              "      <td>2744</td>\n",
              "      <td>12635</td>\n",
              "      <td>7866</td>\n",
              "      <td>9156</td>\n",
              "      <td>2195</td>\n",
              "      <td>6720</td>\n",
              "      <td>3104</td>\n",
              "      <td>20705</td>\n",
              "      <td>33306</td>\n",
              "      <td>18081</td>\n",
              "      <td>5754</td>\n",
              "      <td>3224</td>\n",
              "      <td>5219</td>\n",
              "      <td>2195</td>\n",
              "      <td>59202</td>\n",
              "      <td>2204</td>\n",
              "      <td>8341</td>\n",
              "      <td>7920</td>\n",
              "      <td>3112</td>\n",
              "      <td>31428</td>\n",
              "      <td>6615</td>\n",
              "      <td>2550</td>\n",
              "      <td>5616</td>\n",
              "      <td>7353</td>\n",
              "      <td>3424</td>\n",
              "      <td>1595</td>\n",
              "    </tr>\n",
              "    <tr>\n",
              "      <th>3915000</th>\n",
              "      <td>441</td>\n",
              "      <td>379683</td>\n",
              "      <td>8725</td>\n",
              "      <td>4392</td>\n",
              "      <td>3154</td>\n",
              "      <td>57129</td>\n",
              "      <td>7980</td>\n",
              "      <td>32560</td>\n",
              "      <td>3088</td>\n",
              "      <td>11970</td>\n",
              "      <td>7488</td>\n",
              "      <td>8421</td>\n",
              "      <td>1695</td>\n",
              "      <td>6160</td>\n",
              "      <td>3016</td>\n",
              "      <td>28078</td>\n",
              "      <td>31824</td>\n",
              "      <td>17343</td>\n",
              "      <td>5950</td>\n",
              "      <td>3172</td>\n",
              "      <td>7191</td>\n",
              "      <td>2070</td>\n",
              "      <td>60582</td>\n",
              "      <td>2014</td>\n",
              "      <td>7220</td>\n",
              "      <td>7830</td>\n",
              "      <td>2968</td>\n",
              "      <td>21546</td>\n",
              "      <td>6165</td>\n",
              "      <td>2526</td>\n",
              "      <td>5369</td>\n",
              "      <td>7525</td>\n",
              "      <td>3256</td>\n",
              "      <td>1276</td>\n",
              "    </tr>\n",
              "  </tbody>\n",
              "</table>\n",
              "<p>441 rows × 34 columns</p>\n",
              "</div>"
            ],
            "text/plain": [
              "           Overall Rank  Overall Health Score  ...  Violent crime  Walkability\n",
              "stpl_fips                                      ...                            \n",
              "1342425               1                 62011  ...             16         4708\n",
              "4827684               2                 77965  ...            256         2750\n",
              "613214                3                 80881  ...            128         4543\n",
              "4801924               4                 82418  ...            192         4235\n",
              "636770                5                 84063  ...             72         1232\n",
              "...                 ...                   ...  ...            ...          ...\n",
              "4740000             437                360725  ...           3216         3894\n",
              "2241155             438                364211  ...           3128         2959\n",
              "3901000             439                366858  ...           2816         1804\n",
              "3912000             440                376354  ...           3424         1595\n",
              "3915000             441                379683  ...           3256         1276\n",
              "\n",
              "[441 rows x 34 columns]"
            ]
          },
          "metadata": {
            "tags": []
          },
          "execution_count": 61
        }
      ]
    },
    {
      "cell_type": "code",
      "metadata": {
        "id": "RjuQ2niHztyW",
        "colab_type": "code",
        "outputId": "1dc26207-4193-47f9-fb31-00e795fb9b32",
        "colab": {
          "base_uri": "https://localhost:8080/",
          "height": 544
        }
      },
      "source": [
        "feature_weights(tract_ranked, tract_weights)"
      ],
      "execution_count": 0,
      "outputs": [
        {
          "output_type": "execute_result",
          "data": {
            "text/html": [
              "<div>\n",
              "<style scoped>\n",
              "    .dataframe tbody tr th:only-of-type {\n",
              "        vertical-align: middle;\n",
              "    }\n",
              "\n",
              "    .dataframe tbody tr th {\n",
              "        vertical-align: top;\n",
              "    }\n",
              "\n",
              "    .dataframe thead th {\n",
              "        text-align: right;\n",
              "    }\n",
              "</style>\n",
              "<table border=\"1\" class=\"dataframe\">\n",
              "  <thead>\n",
              "    <tr style=\"text-align: right;\">\n",
              "      <th></th>\n",
              "      <th>Overall Rank</th>\n",
              "      <th>Overall Health Score</th>\n",
              "      <th>Air pollution - particulate matter</th>\n",
              "      <th>Binge drinking</th>\n",
              "      <th>Children in Poverty</th>\n",
              "      <th>Dental care</th>\n",
              "      <th>Diabetes</th>\n",
              "      <th>Frequent mental distress</th>\n",
              "      <th>High blood pressure</th>\n",
              "      <th>Housing cost, excessive</th>\n",
              "      <th>Housing with potential lead risk</th>\n",
              "      <th>Income Inequality</th>\n",
              "      <th>Life expectancy</th>\n",
              "      <th>Limited access to healthy foods</th>\n",
              "      <th>Obesity</th>\n",
              "      <th>Physical inactivity</th>\n",
              "      <th>Preventive services</th>\n",
              "      <th>Racial/ethnic diversity</th>\n",
              "      <th>Smoking</th>\n",
              "      <th>Unemployment</th>\n",
              "      <th>Uninsured</th>\n",
              "    </tr>\n",
              "    <tr>\n",
              "      <th>stcotr_fips</th>\n",
              "      <th></th>\n",
              "      <th></th>\n",
              "      <th></th>\n",
              "      <th></th>\n",
              "      <th></th>\n",
              "      <th></th>\n",
              "      <th></th>\n",
              "      <th></th>\n",
              "      <th></th>\n",
              "      <th></th>\n",
              "      <th></th>\n",
              "      <th></th>\n",
              "      <th></th>\n",
              "      <th></th>\n",
              "      <th></th>\n",
              "      <th></th>\n",
              "      <th></th>\n",
              "      <th></th>\n",
              "      <th></th>\n",
              "      <th></th>\n",
              "      <th></th>\n",
              "    </tr>\n",
              "  </thead>\n",
              "  <tbody>\n",
              "    <tr>\n",
              "      <th>6085504901</th>\n",
              "      <td>1</td>\n",
              "      <td>33767485</td>\n",
              "      <td>1304901</td>\n",
              "      <td>3837202</td>\n",
              "      <td>4758019</td>\n",
              "      <td>1822392</td>\n",
              "      <td>276716</td>\n",
              "      <td>20826</td>\n",
              "      <td>63840</td>\n",
              "      <td>5019132</td>\n",
              "      <td>383223</td>\n",
              "      <td>84568</td>\n",
              "      <td>3751561</td>\n",
              "      <td>5630418</td>\n",
              "      <td>28866</td>\n",
              "      <td>897870</td>\n",
              "      <td>2306070</td>\n",
              "      <td>2196216</td>\n",
              "      <td>41760</td>\n",
              "      <td>1033045</td>\n",
              "      <td>310860</td>\n",
              "    </tr>\n",
              "    <tr>\n",
              "      <th>36061031703</th>\n",
              "      <td>2</td>\n",
              "      <td>35767652</td>\n",
              "      <td>2909052</td>\n",
              "      <td>11183110</td>\n",
              "      <td>5950854</td>\n",
              "      <td>181038</td>\n",
              "      <td>335634</td>\n",
              "      <td>365790</td>\n",
              "      <td>128160</td>\n",
              "      <td>1087780</td>\n",
              "      <td>216423</td>\n",
              "      <td>172019</td>\n",
              "      <td>436821</td>\n",
              "      <td>2758560</td>\n",
              "      <td>50374</td>\n",
              "      <td>713625</td>\n",
              "      <td>3934773</td>\n",
              "      <td>2908422</td>\n",
              "      <td>614394</td>\n",
              "      <td>1556823</td>\n",
              "      <td>264000</td>\n",
              "    </tr>\n",
              "    <tr>\n",
              "      <th>51510200702</th>\n",
              "      <td>3</td>\n",
              "      <td>35838069</td>\n",
              "      <td>2466504</td>\n",
              "      <td>10335473</td>\n",
              "      <td>1645749</td>\n",
              "      <td>1640496</td>\n",
              "      <td>595800</td>\n",
              "      <td>535602</td>\n",
              "      <td>903840</td>\n",
              "      <td>3655708</td>\n",
              "      <td>192654</td>\n",
              "      <td>1061905</td>\n",
              "      <td>383812</td>\n",
              "      <td>5017952</td>\n",
              "      <td>1695170</td>\n",
              "      <td>551005</td>\n",
              "      <td>121545</td>\n",
              "      <td>2946636</td>\n",
              "      <td>879570</td>\n",
              "      <td>254288</td>\n",
              "      <td>954360</td>\n",
              "    </tr>\n",
              "    <tr>\n",
              "      <th>34017007300</th>\n",
              "      <td>4</td>\n",
              "      <td>36060608</td>\n",
              "      <td>2958129</td>\n",
              "      <td>10610756</td>\n",
              "      <td>16954</td>\n",
              "      <td>356928</td>\n",
              "      <td>19860</td>\n",
              "      <td>167142</td>\n",
              "      <td>37920</td>\n",
              "      <td>2162408</td>\n",
              "      <td>192237</td>\n",
              "      <td>175863</td>\n",
              "      <td>369050</td>\n",
              "      <td>2952316</td>\n",
              "      <td>371862</td>\n",
              "      <td>2479955</td>\n",
              "      <td>6378156</td>\n",
              "      <td>763686</td>\n",
              "      <td>524088</td>\n",
              "      <td>2569138</td>\n",
              "      <td>2954160</td>\n",
              "    </tr>\n",
              "    <tr>\n",
              "      <th>49035104400</th>\n",
              "      <td>5</td>\n",
              "      <td>36817945</td>\n",
              "      <td>829692</td>\n",
              "      <td>3138729</td>\n",
              "      <td>387520</td>\n",
              "      <td>147576</td>\n",
              "      <td>1450442</td>\n",
              "      <td>699006</td>\n",
              "      <td>1733760</td>\n",
              "      <td>689932</td>\n",
              "      <td>7110684</td>\n",
              "      <td>1219509</td>\n",
              "      <td>1629859</td>\n",
              "      <td>5084453</td>\n",
              "      <td>1601780</td>\n",
              "      <td>198950</td>\n",
              "      <td>1555119</td>\n",
              "      <td>5055534</td>\n",
              "      <td>8874</td>\n",
              "      <td>1303226</td>\n",
              "      <td>2973300</td>\n",
              "    </tr>\n",
              "    <tr>\n",
              "      <th>...</th>\n",
              "      <td>...</td>\n",
              "      <td>...</td>\n",
              "      <td>...</td>\n",
              "      <td>...</td>\n",
              "      <td>...</td>\n",
              "      <td>...</td>\n",
              "      <td>...</td>\n",
              "      <td>...</td>\n",
              "      <td>...</td>\n",
              "      <td>...</td>\n",
              "      <td>...</td>\n",
              "      <td>...</td>\n",
              "      <td>...</td>\n",
              "      <td>...</td>\n",
              "      <td>...</td>\n",
              "      <td>...</td>\n",
              "      <td>...</td>\n",
              "      <td>...</td>\n",
              "      <td>...</td>\n",
              "      <td>...</td>\n",
              "      <td>...</td>\n",
              "    </tr>\n",
              "    <tr>\n",
              "      <th>13095010302</th>\n",
              "      <td>26844</td>\n",
              "      <td>290725988</td>\n",
              "      <td>2693421</td>\n",
              "      <td>243020</td>\n",
              "      <td>31851722</td>\n",
              "      <td>22644336</td>\n",
              "      <td>17433108</td>\n",
              "      <td>14085318</td>\n",
              "      <td>12668160</td>\n",
              "      <td>12523444</td>\n",
              "      <td>5350944</td>\n",
              "      <td>25281027</td>\n",
              "      <td>16639458</td>\n",
              "      <td>21483107</td>\n",
              "      <td>14975228</td>\n",
              "      <td>23048790</td>\n",
              "      <td>16953885</td>\n",
              "      <td>4918914</td>\n",
              "      <td>13894596</td>\n",
              "      <td>18359870</td>\n",
              "      <td>15677640</td>\n",
              "    </tr>\n",
              "    <tr>\n",
              "      <th>29510126700</th>\n",
              "      <td>26845</td>\n",
              "      <td>290746051</td>\n",
              "      <td>3783717</td>\n",
              "      <td>1163982</td>\n",
              "      <td>29983149</td>\n",
              "      <td>22628892</td>\n",
              "      <td>17485406</td>\n",
              "      <td>14272218</td>\n",
              "      <td>12215040</td>\n",
              "      <td>11567184</td>\n",
              "      <td>10772778</td>\n",
              "      <td>25122462</td>\n",
              "      <td>17678837</td>\n",
              "      <td>19213042</td>\n",
              "      <td>15117860</td>\n",
              "      <td>22403500</td>\n",
              "      <td>14700375</td>\n",
              "      <td>4210272</td>\n",
              "      <td>13997952</td>\n",
              "      <td>17561765</td>\n",
              "      <td>16867620</td>\n",
              "    </tr>\n",
              "    <tr>\n",
              "      <th>17031251700</th>\n",
              "      <td>26846</td>\n",
              "      <td>291030214</td>\n",
              "      <td>4212072</td>\n",
              "      <td>3409822</td>\n",
              "      <td>31230479</td>\n",
              "      <td>22331166</td>\n",
              "      <td>16909466</td>\n",
              "      <td>12846972</td>\n",
              "      <td>12546720</td>\n",
              "      <td>13199128</td>\n",
              "      <td>11073018</td>\n",
              "      <td>21694575</td>\n",
              "      <td>15655101</td>\n",
              "      <td>21660443</td>\n",
              "      <td>14930514</td>\n",
              "      <td>21466705</td>\n",
              "      <td>16820514</td>\n",
              "      <td>3999402</td>\n",
              "      <td>13190940</td>\n",
              "      <td>18164317</td>\n",
              "      <td>15688860</td>\n",
              "    </tr>\n",
              "    <tr>\n",
              "      <th>55079013500</th>\n",
              "      <td>26847</td>\n",
              "      <td>292881283</td>\n",
              "      <td>3151188</td>\n",
              "      <td>6264050</td>\n",
              "      <td>31733044</td>\n",
              "      <td>22169004</td>\n",
              "      <td>17345724</td>\n",
              "      <td>14180370</td>\n",
              "      <td>12358560</td>\n",
              "      <td>13100488</td>\n",
              "      <td>10272378</td>\n",
              "      <td>25765371</td>\n",
              "      <td>17846587</td>\n",
              "      <td>19786100</td>\n",
              "      <td>15178988</td>\n",
              "      <td>21603375</td>\n",
              "      <td>17485398</td>\n",
              "      <td>2122956</td>\n",
              "      <td>13886766</td>\n",
              "      <td>15641476</td>\n",
              "      <td>12989460</td>\n",
              "    </tr>\n",
              "    <tr>\n",
              "      <th>17031251500</th>\n",
              "      <td>26848</td>\n",
              "      <td>295619713</td>\n",
              "      <td>4190184</td>\n",
              "      <td>2291092</td>\n",
              "      <td>29544767</td>\n",
              "      <td>22490754</td>\n",
              "      <td>17417882</td>\n",
              "      <td>12947364</td>\n",
              "      <td>12675840</td>\n",
              "      <td>13568480</td>\n",
              "      <td>10594302</td>\n",
              "      <td>25130150</td>\n",
              "      <td>16962209</td>\n",
              "      <td>20119426</td>\n",
              "      <td>15051072</td>\n",
              "      <td>21957160</td>\n",
              "      <td>17052435</td>\n",
              "      <td>5004054</td>\n",
              "      <td>13437846</td>\n",
              "      <td>18391656</td>\n",
              "      <td>16793040</td>\n",
              "    </tr>\n",
              "  </tbody>\n",
              "</table>\n",
              "<p>26848 rows × 21 columns</p>\n",
              "</div>"
            ],
            "text/plain": [
              "             Overall Rank  Overall Health Score  ...  Unemployment  Uninsured\n",
              "stcotr_fips                                      ...                         \n",
              "6085504901              1              33767485  ...       1033045     310860\n",
              "36061031703             2              35767652  ...       1556823     264000\n",
              "51510200702             3              35838069  ...        254288     954360\n",
              "34017007300             4              36060608  ...       2569138    2954160\n",
              "49035104400             5              36817945  ...       1303226    2973300\n",
              "...                   ...                   ...  ...           ...        ...\n",
              "13095010302         26844             290725988  ...      18359870   15677640\n",
              "29510126700         26845             290746051  ...      17561765   16867620\n",
              "17031251700         26846             291030214  ...      18164317   15688860\n",
              "55079013500         26847             292881283  ...      15641476   12989460\n",
              "17031251500         26848             295619713  ...      18391656   16793040\n",
              "\n",
              "[26848 rows x 21 columns]"
            ]
          },
          "metadata": {
            "tags": []
          },
          "execution_count": 62
        }
      ]
    },
    {
      "cell_type": "code",
      "metadata": {
        "id": "K2oU-JUw9t_B",
        "colab_type": "code",
        "colab": {}
      },
      "source": [
        ""
      ],
      "execution_count": 0,
      "outputs": []
    }
  ]
}